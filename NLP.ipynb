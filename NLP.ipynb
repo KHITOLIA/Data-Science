{
 "cells": [
  {
   "cell_type": "code",
   "execution_count": 1,
   "id": "57b99ca3-5edf-46f3-af53-832fb2e4a629",
   "metadata": {},
   "outputs": [],
   "source": [
    "# !pip install nltk"
   ]
  },
  {
   "cell_type": "code",
   "execution_count": 2,
   "id": "0acf68c6-20cc-42be-b142-09bea68b4041",
   "metadata": {},
   "outputs": [],
   "source": [
    "corpus = \"\"\"Hello welcome, to Krish Naik's NLP tutorial.\n",
    "please watch the entire course! to become an expert in NLP\"\"\""
   ]
  },
  {
   "cell_type": "code",
   "execution_count": 3,
   "id": "319f7e10-896c-443a-ad97-630d3e036f39",
   "metadata": {},
   "outputs": [
    {
     "name": "stdout",
     "output_type": "stream",
     "text": [
      "Hello welcome, to Krish Naik's NLP tutorial.\n",
      "please watch the entire course! to become an expert in NLP\n"
     ]
    }
   ],
   "source": [
    "print(corpus)"
   ]
  },
  {
   "cell_type": "code",
   "execution_count": 4,
   "id": "a8874817-5f91-40a5-b9f5-c8f78a9fbc88",
   "metadata": {},
   "outputs": [],
   "source": [
    "# Tokenization\n",
    "## Sentence --> paragraphs\n",
    "import nltk\n",
    "from nltk.tokenize import sent_tokenize  # convert the paragragh into sentences"
   ]
  },
  {
   "cell_type": "code",
   "execution_count": 5,
   "id": "636ba84b-f914-41dd-a1ea-86020f546c3e",
   "metadata": {},
   "outputs": [],
   "source": [
    "import nltk\n",
    "# nltk.download('punkt_tab')\n",
    "documents = sent_tokenize(corpus)"
   ]
  },
  {
   "cell_type": "code",
   "execution_count": 6,
   "id": "14ea0b7b-7011-42d0-87ae-89c350f1b401",
   "metadata": {},
   "outputs": [],
   "source": [
    "# word Tokenize\n",
    "## paragragh --> words\n",
    "## sentence --> words\n",
    "from nltk.tokenize import word_tokenize"
   ]
  },
  {
   "cell_type": "code",
   "execution_count": 7,
   "id": "b3326504-781e-483e-b5de-59b6a290ff88",
   "metadata": {},
   "outputs": [
    {
     "data": {
      "text/plain": [
       "['Hello',\n",
       " 'welcome',\n",
       " ',',\n",
       " 'to',\n",
       " 'Krish',\n",
       " 'Naik',\n",
       " \"'s\",\n",
       " 'NLP',\n",
       " 'tutorial',\n",
       " '.',\n",
       " 'please',\n",
       " 'watch',\n",
       " 'the',\n",
       " 'entire',\n",
       " 'course',\n",
       " '!',\n",
       " 'to',\n",
       " 'become',\n",
       " 'an',\n",
       " 'expert',\n",
       " 'in',\n",
       " 'NLP']"
      ]
     },
     "execution_count": 7,
     "metadata": {},
     "output_type": "execute_result"
    }
   ],
   "source": [
    "word_tokenize(corpus) # every word will be seperated into single element in a list"
   ]
  },
  {
   "cell_type": "code",
   "execution_count": 8,
   "id": "0a90dc83-7498-43c4-a9b1-97a951c3b2ff",
   "metadata": {},
   "outputs": [
    {
     "data": {
      "text/plain": [
       "['Hello', 'welcome', ',', 'to', 'Krish', 'Naik', \"'s\", 'NLP', 'tutorial', '.']"
      ]
     },
     "execution_count": 8,
     "metadata": {},
     "output_type": "execute_result"
    }
   ],
   "source": [
    "word_tokenize(documents[0])\n"
   ]
  },
  {
   "cell_type": "code",
   "execution_count": 9,
   "id": "6e26a37f-6bc8-4580-9bbf-8819f90744b7",
   "metadata": {},
   "outputs": [
    {
     "name": "stdout",
     "output_type": "stream",
     "text": [
      "['Hello', 'welcome', ',', 'to', 'Krish', 'Naik', \"'s\", 'NLP', 'tutorial', '.']\n",
      "['please', 'watch', 'the', 'entire', 'course', '!']\n",
      "['to', 'become', 'an', 'expert', 'in', 'NLP']\n"
     ]
    }
   ],
   "source": [
    "for sentence in documents:\n",
    "    print(word_tokenize(sentence))"
   ]
  },
  {
   "cell_type": "code",
   "execution_count": 10,
   "id": "39555a1e-758e-494a-adaa-60ebf25bce2b",
   "metadata": {},
   "outputs": [],
   "source": [
    "from nltk.tokenize import wordpunct_tokenize"
   ]
  },
  {
   "cell_type": "code",
   "execution_count": 11,
   "id": "be87d9f8-adf4-4c32-b4f3-cb3dd87a0734",
   "metadata": {},
   "outputs": [
    {
     "data": {
      "text/plain": [
       "['Hello',\n",
       " 'welcome',\n",
       " ',',\n",
       " 'to',\n",
       " 'Krish',\n",
       " 'Naik',\n",
       " \"'\",\n",
       " 's',\n",
       " 'NLP',\n",
       " 'tutorial',\n",
       " '.',\n",
       " 'please',\n",
       " 'watch',\n",
       " 'the',\n",
       " 'entire',\n",
       " 'course',\n",
       " '!',\n",
       " 'to',\n",
       " 'become',\n",
       " 'an',\n",
       " 'expert',\n",
       " 'in',\n",
       " 'NLP']"
      ]
     },
     "execution_count": 11,
     "metadata": {},
     "output_type": "execute_result"
    }
   ],
   "source": [
    "wordpunct_tokenize(corpus) # this will take punctuations also from the sentence"
   ]
  },
  {
   "cell_type": "code",
   "execution_count": 12,
   "id": "e87c459f-5ada-4662-be64-85ed503465d0",
   "metadata": {},
   "outputs": [],
   "source": [
    "from nltk.tokenize import TreebankWordTokenizer"
   ]
  },
  {
   "cell_type": "code",
   "execution_count": 13,
   "id": "17de7116-c679-4171-b684-54b2eb4c70ec",
   "metadata": {},
   "outputs": [],
   "source": [
    "tokenizer = TreebankWordTokenizer()"
   ]
  },
  {
   "cell_type": "code",
   "execution_count": 14,
   "id": "8db4f3f9-dc12-4e0a-be46-c8415ddde0d6",
   "metadata": {},
   "outputs": [
    {
     "data": {
      "text/plain": [
       "['Hello',\n",
       " 'welcome',\n",
       " ',',\n",
       " 'to',\n",
       " 'Krish',\n",
       " 'Naik',\n",
       " \"'s\",\n",
       " 'NLP',\n",
       " 'tutorial.',\n",
       " 'please',\n",
       " 'watch',\n",
       " 'the',\n",
       " 'entire',\n",
       " 'course',\n",
       " '!',\n",
       " 'to',\n",
       " 'become',\n",
       " 'an',\n",
       " 'expert',\n",
       " 'in',\n",
       " 'NLP']"
      ]
     },
     "execution_count": 14,
     "metadata": {},
     "output_type": "execute_result"
    }
   ],
   "source": [
    "tokenizer.tokenize(corpus) # Full stop or apaustoffe s is considered and only last full stop is seperated"
   ]
  },
  {
   "cell_type": "markdown",
   "id": "3cd5c83b-70cd-4334-ba10-e5bbb71380e8",
   "metadata": {},
   "source": [
    "# Stemming\n",
    "\n",
    "Stemming is the process of reducing a word to it's word stem that affixes to suffix and prefixes or to the roots of words known as a lemma. Stemming is important in Natural Language Understanding and NLP\n"
   ]
  },
  {
   "cell_type": "code",
   "execution_count": 15,
   "id": "48c2c8cb-5b22-47a8-ac20-c2d6c8f0ede1",
   "metadata": {},
   "outputs": [],
   "source": [
    "## Classification problem \n",
    "## comment of product is a positive review or negative review\n",
    "## Reviews --> eating , eat , eaten, [going, gone, goes, go]  breakdown the word to it's root stem like go and eat"
   ]
  },
  {
   "cell_type": "code",
   "execution_count": 16,
   "id": "cc9afafd-5020-4cef-9b93-164c40c6b9bd",
   "metadata": {},
   "outputs": [],
   "source": [
    "words=[\"eating\",\"eats\",\"eaten\",\"writing\",\"writes\",\"programming\",\"programs\",\"history\",\"finally\",\"finalized\"]\n"
   ]
  },
  {
   "cell_type": "code",
   "execution_count": 17,
   "id": "3e2eb493-f6dc-4f21-9bbd-f17b85114c15",
   "metadata": {},
   "outputs": [],
   "source": [
    "# Stemming Techniques \n",
    "from nltk.stem import PorterStemmer"
   ]
  },
  {
   "cell_type": "code",
   "execution_count": 18,
   "id": "bcb1ec87-d992-408f-9ff7-9ec9b6f7104a",
   "metadata": {},
   "outputs": [
    {
     "data": {
      "text/plain": [
       "'militari'"
      ]
     },
     "execution_count": 18,
     "metadata": {},
     "output_type": "execute_result"
    }
   ],
   "source": [
    "stemming = PorterStemmer()\n",
    "stemming.stem('Military')"
   ]
  },
  {
   "cell_type": "code",
   "execution_count": 19,
   "id": "6ef61237-0145-41a6-ba5e-42ca9bb4b788",
   "metadata": {},
   "outputs": [
    {
     "name": "stdout",
     "output_type": "stream",
     "text": [
      "eating ----> eat\n",
      "eats ----> eat\n",
      "eaten ----> eaten\n",
      "writing ----> write\n",
      "writes ----> write\n",
      "programming ----> program\n",
      "programs ----> program\n",
      "history ----> histori\n",
      "finally ----> final\n",
      "finalized ----> final\n"
     ]
    }
   ],
   "source": [
    "for word in words:\n",
    "    print(word,\"---->\",stemming.stem(word))"
   ]
  },
  {
   "cell_type": "code",
   "execution_count": 20,
   "id": "27d29d47-3e21-4141-9fb7-678df36ef958",
   "metadata": {},
   "outputs": [
    {
     "data": {
      "text/plain": [
       "'congratul'"
      ]
     },
     "execution_count": 20,
     "metadata": {},
     "output_type": "execute_result"
    }
   ],
   "source": [
    "stemming.stem('congratulations')"
   ]
  },
  {
   "cell_type": "code",
   "execution_count": 21,
   "id": "5e079809-3e97-4e27-a32a-9b4153553732",
   "metadata": {},
   "outputs": [
    {
     "data": {
      "text/plain": [
       "'sit'"
      ]
     },
     "execution_count": 21,
     "metadata": {},
     "output_type": "execute_result"
    }
   ],
   "source": [
    "stemming.stem('sitting')"
   ]
  },
  {
   "cell_type": "markdown",
   "id": "fa66c57a-2fa5-497e-a245-3499278fe739",
   "metadata": {},
   "source": [
    "# RegexpStemmer Class \n",
    "NLTK has RegexpStemmer class with the help of which we can easily Implement Regular Expression Stemmer Algorithms. It basically takes a single regular expression and removes any prefix or suffix that matches the expression."
   ]
  },
  {
   "cell_type": "code",
   "execution_count": 22,
   "id": "16214f83-879f-4138-a41a-df9cf4c532e2",
   "metadata": {},
   "outputs": [],
   "source": [
    "from nltk.stem import RegexpStemmer"
   ]
  },
  {
   "cell_type": "code",
   "execution_count": 23,
   "id": "47c84a28-3dae-4e68-8e04-6fd901886901",
   "metadata": {},
   "outputs": [],
   "source": [
    "reg_stemmer = RegexpStemmer('ing$|s$|e$|able$',min=4)\n"
   ]
  },
  {
   "cell_type": "code",
   "execution_count": 24,
   "id": "64ddf922-0d3b-4cfd-aa8b-09845fc497d8",
   "metadata": {},
   "outputs": [
    {
     "data": {
      "text/plain": [
       "'eat'"
      ]
     },
     "execution_count": 24,
     "metadata": {},
     "output_type": "execute_result"
    }
   ],
   "source": [
    "reg_stemmer.stem('eating')"
   ]
  },
  {
   "cell_type": "code",
   "execution_count": 25,
   "id": "d3c06814-c07d-4a87-aa08-cf8c495fee43",
   "metadata": {},
   "outputs": [
    {
     "data": {
      "text/plain": [
       "'ingeat'"
      ]
     },
     "execution_count": 25,
     "metadata": {},
     "output_type": "execute_result"
    }
   ],
   "source": [
    "reg_stemmer.stem('ingeating')"
   ]
  },
  {
   "cell_type": "markdown",
   "id": "75a57759-6cbc-4831-91c7-c712e63fa910",
   "metadata": {},
   "source": [
    "# Snowball Stemmer\n",
    "It is a stemming algorithm which is also known as the Porter2 stemming algorithm as it is a better version of the Porter Stemmer since some issues of it were fixed in this stemmer."
   ]
  },
  {
   "cell_type": "code",
   "execution_count": 26,
   "id": "5691740e-adea-47b9-9b99-bfec1e2360e6",
   "metadata": {},
   "outputs": [],
   "source": [
    "from nltk.stem import SnowballStemmer"
   ]
  },
  {
   "cell_type": "code",
   "execution_count": 31,
   "id": "d6d804ae-d55f-469f-a9c8-13b84f65d0b8",
   "metadata": {},
   "outputs": [],
   "source": [
    "snowballstemmer = SnowballStemmer('english')"
   ]
  },
  {
   "cell_type": "code",
   "execution_count": 32,
   "id": "95f3e1d5-ae6c-4573-9e05-5955d5a8672b",
   "metadata": {},
   "outputs": [
    {
     "name": "stdout",
     "output_type": "stream",
     "text": [
      "eating---->eat\n",
      "eats---->eat\n",
      "eaten---->eaten\n",
      "writing---->write\n",
      "writes---->write\n",
      "programming---->program\n",
      "programs---->program\n",
      "history---->histori\n",
      "finally---->final\n",
      "finalized---->final\n"
     ]
    }
   ],
   "source": [
    "for word in words:\n",
    "    print(word+\"---->\"+snowballstemmer.stem(word))"
   ]
  },
  {
   "cell_type": "code",
   "execution_count": 29,
   "id": "9227c0bc-f07c-4bbf-b725-4637e16e80a9",
   "metadata": {},
   "outputs": [
    {
     "data": {
      "text/plain": [
       "'eating'"
      ]
     },
     "execution_count": 29,
     "metadata": {},
     "output_type": "execute_result"
    }
   ],
   "source": [
    "words[0]"
   ]
  },
  {
   "cell_type": "code",
   "execution_count": 33,
   "id": "c18fb11f-77ca-4010-a5c2-be9b83467ef2",
   "metadata": {},
   "outputs": [
    {
     "data": {
      "text/plain": [
       "('eat', 'eat')"
      ]
     },
     "execution_count": 33,
     "metadata": {},
     "output_type": "execute_result"
    }
   ],
   "source": [
    "stemming.stem(words[0]), snowballstemmer.stem(words[0])"
   ]
  },
  {
   "cell_type": "code",
   "execution_count": 34,
   "id": "251fb96c-bb6a-44f6-8a85-514c4dd5e260",
   "metadata": {},
   "outputs": [
    {
     "data": {
      "text/plain": [
       "('fairli', 'sportingli')"
      ]
     },
     "execution_count": 34,
     "metadata": {},
     "output_type": "execute_result"
    }
   ],
   "source": [
    "stemming.stem('fairly'), stemming.stem('sportingly')"
   ]
  },
  {
   "cell_type": "code",
   "execution_count": 36,
   "id": "ef074f25-c0eb-46f5-a2ae-a863588c84fb",
   "metadata": {},
   "outputs": [
    {
     "data": {
      "text/plain": [
       "('fair', 'sport')"
      ]
     },
     "execution_count": 36,
     "metadata": {},
     "output_type": "execute_result"
    }
   ],
   "source": [
    "snowballstemmer.stem('fairly'), snowballstemmer.stem('sportingly') # best possible root stem will be provided"
   ]
  },
  {
   "cell_type": "code",
   "execution_count": 40,
   "id": "4a1caf86-75f3-48fa-87a1-dbf94a0ff552",
   "metadata": {},
   "outputs": [
    {
     "data": {
      "text/plain": [
       "'go'"
      ]
     },
     "execution_count": 40,
     "metadata": {},
     "output_type": "execute_result"
    }
   ],
   "source": [
    "stemming.stem('going')"
   ]
  },
  {
   "cell_type": "code",
   "execution_count": 39,
   "id": "abd36fbc-df37-467f-a58c-ab4588300247",
   "metadata": {},
   "outputs": [
    {
     "data": {
      "text/plain": [
       "'go'"
      ]
     },
     "execution_count": 39,
     "metadata": {},
     "output_type": "execute_result"
    }
   ],
   "source": [
    "snowballstemmer.stem('going')"
   ]
  },
  {
   "cell_type": "markdown",
   "id": "6025216c-3593-4284-9626-984f1cf233d4",
   "metadata": {},
   "source": [
    "# WordNet Lemmatizer"
   ]
  },
  {
   "cell_type": "code",
   "execution_count": 49,
   "id": "d18b6e3d-0c86-4b05-9371-248967bcb552",
   "metadata": {},
   "outputs": [
    {
     "name": "stderr",
     "output_type": "stream",
     "text": [
      "[nltk_data] Downloading package wordnet to\n",
      "[nltk_data]     C:\\Users\\Yashasvi\\AppData\\Roaming\\nltk_data...\n"
     ]
    }
   ],
   "source": [
    "import nltk\n",
    "nltk.download('wordnet')\n",
    "from nltk.stem import WordNetLemmatizer"
   ]
  },
  {
   "cell_type": "code",
   "execution_count": 50,
   "id": "0e730446-82dc-4181-bb2c-d35255f04f6b",
   "metadata": {},
   "outputs": [],
   "source": [
    "lemmatizer = WordNetLemmatizer()"
   ]
  },
  {
   "cell_type": "code",
   "execution_count": 58,
   "id": "1ec6a313-9db9-49f5-8c99-0f2dae0bddba",
   "metadata": {},
   "outputs": [
    {
     "data": {
      "text/plain": [
       "'go'"
      ]
     },
     "execution_count": 58,
     "metadata": {},
     "output_type": "execute_result"
    }
   ],
   "source": [
    "'''\n",
    "pos - Noun-n\n",
    "verb -v\n",
    "adjective-a\n",
    "adverb-r \n",
    "'''\n",
    "lemmatizer.lemmatize('going', pos = 'v')"
   ]
  },
  {
   "cell_type": "code",
   "execution_count": 63,
   "id": "7a3fa423-0d97-4070-992e-c75c96cac043",
   "metadata": {},
   "outputs": [
    {
     "name": "stdout",
     "output_type": "stream",
     "text": [
      "eating ---> eat\n",
      "eats ---> eat\n",
      "eaten ---> eat\n",
      "writing ---> write\n",
      "writes ---> write\n",
      "programming ---> program\n",
      "programs ---> program\n",
      "history ---> history\n",
      "finally ---> finally\n",
      "finalized ---> finalize\n"
     ]
    }
   ],
   "source": [
    "for word in words:\n",
    "    print(word+' ---> '+lemmatizer.lemmatize(word, pos = 'v'))"
   ]
  },
  {
   "cell_type": "code",
   "execution_count": 65,
   "id": "adcd09f8-35e3-4c82-b300-fc0096b921da",
   "metadata": {},
   "outputs": [
    {
     "data": {
      "text/plain": [
       "('fairly', 'sportingly')"
      ]
     },
     "execution_count": 65,
     "metadata": {},
     "output_type": "execute_result"
    }
   ],
   "source": [
    "lemmatizer.lemmatize('fairly', pos= 'v'), lemmatizer.lemmatize('sportingly')"
   ]
  },
  {
   "cell_type": "markdown",
   "id": "33e7ca7c-c466-4739-b697-bc97f4064807",
   "metadata": {},
   "source": [
    "# Example QnA, Chatbot"
   ]
  },
  {
   "cell_type": "code",
   "execution_count": 68,
   "id": "25b3a823-7dc5-4e2d-9c9c-284d3c2c485b",
   "metadata": {},
   "outputs": [],
   "source": [
    "# Text preprocessing - Stopwords with NLTK"
   ]
  },
  {
   "cell_type": "code",
   "execution_count": 226,
   "id": "e5697cb7-06cb-43a5-87e1-4144ed4b3551",
   "metadata": {},
   "outputs": [],
   "source": [
    "from nltk.corpus import stopwords"
   ]
  },
  {
   "cell_type": "code",
   "execution_count": 227,
   "id": "335ae6ef-dc61-465c-b674-17e9931c5f0a",
   "metadata": {},
   "outputs": [
    {
     "name": "stderr",
     "output_type": "stream",
     "text": [
      "[nltk_data] Downloading package stopwords to\n",
      "[nltk_data]     C:\\Users\\Yashasvi\\AppData\\Roaming\\nltk_data...\n",
      "[nltk_data]   Package stopwords is already up-to-date!\n"
     ]
    },
    {
     "data": {
      "text/plain": [
       "True"
      ]
     },
     "execution_count": 227,
     "metadata": {},
     "output_type": "execute_result"
    }
   ],
   "source": [
    "import nltk\n",
    "nltk.download('stopwords')"
   ]
  },
  {
   "cell_type": "code",
   "execution_count": 228,
   "id": "585dad66-14a7-488b-8e2a-b0c23e404c8c",
   "metadata": {
    "scrolled": true
   },
   "outputs": [
    {
     "data": {
      "text/plain": [
       "['a',\n",
       " 'about',\n",
       " 'above',\n",
       " 'after',\n",
       " 'again',\n",
       " 'against',\n",
       " 'ain',\n",
       " 'all',\n",
       " 'am',\n",
       " 'an',\n",
       " 'and',\n",
       " 'any',\n",
       " 'are',\n",
       " 'aren',\n",
       " \"aren't\",\n",
       " 'as',\n",
       " 'at',\n",
       " 'be',\n",
       " 'because',\n",
       " 'been',\n",
       " 'before',\n",
       " 'being',\n",
       " 'below',\n",
       " 'between',\n",
       " 'both',\n",
       " 'but',\n",
       " 'by',\n",
       " 'can',\n",
       " 'couldn',\n",
       " \"couldn't\",\n",
       " 'd',\n",
       " 'did',\n",
       " 'didn',\n",
       " \"didn't\",\n",
       " 'do',\n",
       " 'does',\n",
       " 'doesn',\n",
       " \"doesn't\",\n",
       " 'doing',\n",
       " 'don',\n",
       " \"don't\",\n",
       " 'down',\n",
       " 'during',\n",
       " 'each',\n",
       " 'few',\n",
       " 'for',\n",
       " 'from',\n",
       " 'further',\n",
       " 'had',\n",
       " 'hadn',\n",
       " \"hadn't\",\n",
       " 'has',\n",
       " 'hasn',\n",
       " \"hasn't\",\n",
       " 'have',\n",
       " 'haven',\n",
       " \"haven't\",\n",
       " 'having',\n",
       " 'he',\n",
       " \"he'd\",\n",
       " \"he'll\",\n",
       " 'her',\n",
       " 'here',\n",
       " 'hers',\n",
       " 'herself',\n",
       " \"he's\",\n",
       " 'him',\n",
       " 'himself',\n",
       " 'his',\n",
       " 'how',\n",
       " 'i',\n",
       " \"i'd\",\n",
       " 'if',\n",
       " \"i'll\",\n",
       " \"i'm\",\n",
       " 'in',\n",
       " 'into',\n",
       " 'is',\n",
       " 'isn',\n",
       " \"isn't\",\n",
       " 'it',\n",
       " \"it'd\",\n",
       " \"it'll\",\n",
       " \"it's\",\n",
       " 'its',\n",
       " 'itself',\n",
       " \"i've\",\n",
       " 'just',\n",
       " 'll',\n",
       " 'm',\n",
       " 'ma',\n",
       " 'me',\n",
       " 'mightn',\n",
       " \"mightn't\",\n",
       " 'more',\n",
       " 'most',\n",
       " 'mustn',\n",
       " \"mustn't\",\n",
       " 'my',\n",
       " 'myself',\n",
       " 'needn',\n",
       " \"needn't\",\n",
       " 'no',\n",
       " 'nor',\n",
       " 'not',\n",
       " 'now',\n",
       " 'o',\n",
       " 'of',\n",
       " 'off',\n",
       " 'on',\n",
       " 'once',\n",
       " 'only',\n",
       " 'or',\n",
       " 'other',\n",
       " 'our',\n",
       " 'ours',\n",
       " 'ourselves',\n",
       " 'out',\n",
       " 'over',\n",
       " 'own',\n",
       " 're',\n",
       " 's',\n",
       " 'same',\n",
       " 'shan',\n",
       " \"shan't\",\n",
       " 'she',\n",
       " \"she'd\",\n",
       " \"she'll\",\n",
       " \"she's\",\n",
       " 'should',\n",
       " 'shouldn',\n",
       " \"shouldn't\",\n",
       " \"should've\",\n",
       " 'so',\n",
       " 'some',\n",
       " 'such',\n",
       " 't',\n",
       " 'than',\n",
       " 'that',\n",
       " \"that'll\",\n",
       " 'the',\n",
       " 'their',\n",
       " 'theirs',\n",
       " 'them',\n",
       " 'themselves',\n",
       " 'then',\n",
       " 'there',\n",
       " 'these',\n",
       " 'they',\n",
       " \"they'd\",\n",
       " \"they'll\",\n",
       " \"they're\",\n",
       " \"they've\",\n",
       " 'this',\n",
       " 'those',\n",
       " 'through',\n",
       " 'to',\n",
       " 'too',\n",
       " 'under',\n",
       " 'until',\n",
       " 'up',\n",
       " 've',\n",
       " 'very',\n",
       " 'was',\n",
       " 'wasn',\n",
       " \"wasn't\",\n",
       " 'we',\n",
       " \"we'd\",\n",
       " \"we'll\",\n",
       " \"we're\",\n",
       " 'were',\n",
       " 'weren',\n",
       " \"weren't\",\n",
       " \"we've\",\n",
       " 'what',\n",
       " 'when',\n",
       " 'where',\n",
       " 'which',\n",
       " 'while',\n",
       " 'who',\n",
       " 'whom',\n",
       " 'why',\n",
       " 'will',\n",
       " 'with',\n",
       " 'won',\n",
       " \"won't\",\n",
       " 'wouldn',\n",
       " \"wouldn't\",\n",
       " 'y',\n",
       " 'you',\n",
       " \"you'd\",\n",
       " \"you'll\",\n",
       " 'your',\n",
       " \"you're\",\n",
       " 'yours',\n",
       " 'yourself',\n",
       " 'yourselves',\n",
       " \"you've\"]"
      ]
     },
     "execution_count": 228,
     "metadata": {},
     "output_type": "execute_result"
    }
   ],
   "source": [
    "stopwords.words('english')\n",
    "# stopwords.words('french')"
   ]
  },
  {
   "cell_type": "code",
   "execution_count": 316,
   "id": "147ec773-f0dd-4c7c-b68c-b7e39777626f",
   "metadata": {},
   "outputs": [],
   "source": [
    "## Speech Of DR APJ Abdul Kalam\n",
    "paragraph = \"\"\"I have three visions for India. In 3000 years of our history, people from all over \n",
    "               the world have come and invaded us, captured our lands, conquered our minds. \n",
    "               From Alexander onwards, the Greeks, the Turks, the Moguls, the Portuguese, the British,\n",
    "               the French, the Dutch, all of them came and looted us, took over what was ours. \n",
    "               Yet we have not done this to any other nation. We have not conquered anyone. \n",
    "               We have not grabbed their land, their culture, \n",
    "               their history and tried to enforce our way of life on them. \n",
    "               Why? Because we respect the freedom of others.That is why my \n",
    "               first vision is that of freedom. I believe that India got its first vision of \n",
    "               this in 1857, when we started the War of Independence. It is this freedom that\n",
    "               we must protect and nurture and build on. If we are not free, no one will respect us.\n",
    "               My second vision for India’s development. For fifty years we have been a developing nation.\n",
    "               It is time we see ourselves as a developed nation. We are among the top 5 nations of the world\n",
    "               in terms of GDP. We have a 10 percent growth rate in most areas. Our poverty levels are falling.\n",
    "               Our achievements are being globally recognised today. Yet we lack the self-confidence to\n",
    "               see ourselves as a developed nation, self-reliant and self-assured. Isn’t this incorrect?\n",
    "               I have a third vision. India must stand up to the world. Because I believe that unless India \n",
    "               stands up to the world, no one will respect us. Only strength respects strength. We must be \n",
    "               strong not only as a military power but also as an economic power. Both must go hand-in-hand. \n",
    "               My good fortune was to have worked with three great minds. Dr. Vikram Sarabhai of the Dept. of \n",
    "               space, Professor Satish Dhawan, who succeeded him and Dr. Brahm Prakash, father of nuclear material.\n",
    "               I was lucky to have worked with all three of them closely and consider this the great opportunity of my life. \n",
    "               I see four milestones in my career\"\"\""
   ]
  },
  {
   "cell_type": "code",
   "execution_count": 302,
   "id": "c54659d0-00a6-4425-aaf4-3fb10ebe87f5",
   "metadata": {},
   "outputs": [],
   "source": [
    "from nltk.stem import PorterStemmer"
   ]
  },
  {
   "cell_type": "code",
   "execution_count": 303,
   "id": "e69ddae7-5fb9-4d73-9158-53803dd765ef",
   "metadata": {},
   "outputs": [],
   "source": [
    "stemmer = PorterStemmer()"
   ]
  },
  {
   "cell_type": "code",
   "execution_count": 304,
   "id": "69df70bd-e51e-488d-bfde-582e9f370af8",
   "metadata": {},
   "outputs": [],
   "source": [
    "from nltk.tokenize import sent_tokenize"
   ]
  },
  {
   "cell_type": "code",
   "execution_count": 305,
   "id": "fc746128-0eab-481e-84f9-c183699eea93",
   "metadata": {
    "scrolled": true
   },
   "outputs": [
    {
     "data": {
      "text/plain": [
       "['I have three visions for India.',\n",
       " 'In 3000 years of our history, people from all over \\n               the world have come and invaded us, captured our lands, conquered our minds.',\n",
       " 'From Alexander onwards, the Greeks, the Turks, the Moguls, the Portuguese, the British,\\n               the French, the Dutch, all of them came and looted us, took over what was ours.',\n",
       " 'Yet we have not done this to any other nation.',\n",
       " 'We have not conquered anyone.',\n",
       " 'We have not grabbed their land, their culture, \\n               their history and tried to enforce our way of life on them.',\n",
       " 'Why?',\n",
       " 'Because we respect the freedom of others.That is why my \\n               first vision is that of freedom.',\n",
       " 'I believe that India got its first vision of \\n               this in 1857, when we started the War of Independence.',\n",
       " 'It is this freedom that\\n               we must protect and nurture and build on.',\n",
       " 'If we are not free, no one will respect us.',\n",
       " 'My second vision for India’s development.',\n",
       " 'For fifty years we have been a developing nation.',\n",
       " 'It is time we see ourselves as a developed nation.',\n",
       " 'We are among the top 5 nations of the world\\n               in terms of GDP.',\n",
       " 'We have a 10 percent growth rate in most areas.',\n",
       " 'Our poverty levels are falling.',\n",
       " 'Our achievements are being globally recognised today.',\n",
       " 'Yet we lack the self-confidence to\\n               see ourselves as a developed nation, self-reliant and self-assured.',\n",
       " 'Isn’t this incorrect?',\n",
       " 'I have a third vision.',\n",
       " 'India must stand up to the world.',\n",
       " 'Because I believe that unless India \\n               stands up to the world, no one will respect us.',\n",
       " 'Only strength respects strength.',\n",
       " 'We must be \\n               strong not only as a military power but also as an economic power.',\n",
       " 'Both must go hand-in-hand.',\n",
       " 'My good fortune was to have worked with three great minds.',\n",
       " 'Dr. Vikram Sarabhai of the Dept.',\n",
       " 'of \\n               space, Professor Satish Dhawan, who succeeded him and Dr. Brahm Prakash, father of nuclear material.',\n",
       " 'I was lucky to have worked with all three of them closely and consider this the great opportunity of my life.',\n",
       " 'I see four milestones in my career']"
      ]
     },
     "execution_count": 305,
     "metadata": {},
     "output_type": "execute_result"
    }
   ],
   "source": [
    "sentences = sent_tokenize(paragraph)\n",
    "sentences\n",
    "# len(sentences)"
   ]
  },
  {
   "cell_type": "code",
   "execution_count": 306,
   "id": "5eb7f504-1eed-470c-b3cd-cf55de048034",
   "metadata": {},
   "outputs": [],
   "source": [
    "from nltk.tokenize import word_tokenize"
   ]
  },
  {
   "cell_type": "code",
   "execution_count": 307,
   "id": "5b9a638a-bc1b-42ba-b17d-590928b8b20b",
   "metadata": {
    "collapsed": true,
    "jupyter": {
     "outputs_hidden": true
    }
   },
   "outputs": [
    {
     "data": {
      "text/plain": [
       "['I',\n",
       " 'have',\n",
       " 'three',\n",
       " 'visions',\n",
       " 'for',\n",
       " 'India',\n",
       " '.',\n",
       " 'In',\n",
       " '3000',\n",
       " 'years',\n",
       " 'of',\n",
       " 'our',\n",
       " 'history',\n",
       " ',',\n",
       " 'people',\n",
       " 'from',\n",
       " 'all',\n",
       " 'over',\n",
       " 'the',\n",
       " 'world',\n",
       " 'have',\n",
       " 'come',\n",
       " 'and',\n",
       " 'invaded',\n",
       " 'us',\n",
       " ',',\n",
       " 'captured',\n",
       " 'our',\n",
       " 'lands',\n",
       " ',',\n",
       " 'conquered',\n",
       " 'our',\n",
       " 'minds',\n",
       " '.',\n",
       " 'From',\n",
       " 'Alexander',\n",
       " 'onwards',\n",
       " ',',\n",
       " 'the',\n",
       " 'Greeks',\n",
       " ',',\n",
       " 'the',\n",
       " 'Turks',\n",
       " ',',\n",
       " 'the',\n",
       " 'Moguls',\n",
       " ',',\n",
       " 'the',\n",
       " 'Portuguese',\n",
       " ',',\n",
       " 'the',\n",
       " 'British',\n",
       " ',',\n",
       " 'the',\n",
       " 'French',\n",
       " ',',\n",
       " 'the',\n",
       " 'Dutch',\n",
       " ',',\n",
       " 'all',\n",
       " 'of',\n",
       " 'them',\n",
       " 'came',\n",
       " 'and',\n",
       " 'looted',\n",
       " 'us',\n",
       " ',',\n",
       " 'took',\n",
       " 'over',\n",
       " 'what',\n",
       " 'was',\n",
       " 'ours',\n",
       " '.',\n",
       " 'Yet',\n",
       " 'we',\n",
       " 'have',\n",
       " 'not',\n",
       " 'done',\n",
       " 'this',\n",
       " 'to',\n",
       " 'any',\n",
       " 'other',\n",
       " 'nation',\n",
       " '.',\n",
       " 'We',\n",
       " 'have',\n",
       " 'not',\n",
       " 'conquered',\n",
       " 'anyone',\n",
       " '.',\n",
       " 'We',\n",
       " 'have',\n",
       " 'not',\n",
       " 'grabbed',\n",
       " 'their',\n",
       " 'land',\n",
       " ',',\n",
       " 'their',\n",
       " 'culture',\n",
       " ',',\n",
       " 'their',\n",
       " 'history',\n",
       " 'and',\n",
       " 'tried',\n",
       " 'to',\n",
       " 'enforce',\n",
       " 'our',\n",
       " 'way',\n",
       " 'of',\n",
       " 'life',\n",
       " 'on',\n",
       " 'them',\n",
       " '.',\n",
       " 'Why',\n",
       " '?',\n",
       " 'Because',\n",
       " 'we',\n",
       " 'respect',\n",
       " 'the',\n",
       " 'freedom',\n",
       " 'of',\n",
       " 'others.That',\n",
       " 'is',\n",
       " 'why',\n",
       " 'my',\n",
       " 'first',\n",
       " 'vision',\n",
       " 'is',\n",
       " 'that',\n",
       " 'of',\n",
       " 'freedom',\n",
       " '.',\n",
       " 'I',\n",
       " 'believe',\n",
       " 'that',\n",
       " 'India',\n",
       " 'got',\n",
       " 'its',\n",
       " 'first',\n",
       " 'vision',\n",
       " 'of',\n",
       " 'this',\n",
       " 'in',\n",
       " '1857',\n",
       " ',',\n",
       " 'when',\n",
       " 'we',\n",
       " 'started',\n",
       " 'the',\n",
       " 'War',\n",
       " 'of',\n",
       " 'Independence',\n",
       " '.',\n",
       " 'It',\n",
       " 'is',\n",
       " 'this',\n",
       " 'freedom',\n",
       " 'that',\n",
       " 'we',\n",
       " 'must',\n",
       " 'protect',\n",
       " 'and',\n",
       " 'nurture',\n",
       " 'and',\n",
       " 'build',\n",
       " 'on',\n",
       " '.',\n",
       " 'If',\n",
       " 'we',\n",
       " 'are',\n",
       " 'not',\n",
       " 'free',\n",
       " ',',\n",
       " 'no',\n",
       " 'one',\n",
       " 'will',\n",
       " 'respect',\n",
       " 'us',\n",
       " '.',\n",
       " 'My',\n",
       " 'second',\n",
       " 'vision',\n",
       " 'for',\n",
       " 'India',\n",
       " '’',\n",
       " 's',\n",
       " 'development',\n",
       " '.',\n",
       " 'For',\n",
       " 'fifty',\n",
       " 'years',\n",
       " 'we',\n",
       " 'have',\n",
       " 'been',\n",
       " 'a',\n",
       " 'developing',\n",
       " 'nation',\n",
       " '.',\n",
       " 'It',\n",
       " 'is',\n",
       " 'time',\n",
       " 'we',\n",
       " 'see',\n",
       " 'ourselves',\n",
       " 'as',\n",
       " 'a',\n",
       " 'developed',\n",
       " 'nation',\n",
       " '.',\n",
       " 'We',\n",
       " 'are',\n",
       " 'among',\n",
       " 'the',\n",
       " 'top',\n",
       " '5',\n",
       " 'nations',\n",
       " 'of',\n",
       " 'the',\n",
       " 'world',\n",
       " 'in',\n",
       " 'terms',\n",
       " 'of',\n",
       " 'GDP',\n",
       " '.',\n",
       " 'We',\n",
       " 'have',\n",
       " 'a',\n",
       " '10',\n",
       " 'percent',\n",
       " 'growth',\n",
       " 'rate',\n",
       " 'in',\n",
       " 'most',\n",
       " 'areas',\n",
       " '.',\n",
       " 'Our',\n",
       " 'poverty',\n",
       " 'levels',\n",
       " 'are',\n",
       " 'falling',\n",
       " '.',\n",
       " 'Our',\n",
       " 'achievements',\n",
       " 'are',\n",
       " 'being',\n",
       " 'globally',\n",
       " 'recognised',\n",
       " 'today',\n",
       " '.',\n",
       " 'Yet',\n",
       " 'we',\n",
       " 'lack',\n",
       " 'the',\n",
       " 'self-confidence',\n",
       " 'to',\n",
       " 'see',\n",
       " 'ourselves',\n",
       " 'as',\n",
       " 'a',\n",
       " 'developed',\n",
       " 'nation',\n",
       " ',',\n",
       " 'self-reliant',\n",
       " 'and',\n",
       " 'self-assured',\n",
       " '.',\n",
       " 'Isn',\n",
       " '’',\n",
       " 't',\n",
       " 'this',\n",
       " 'incorrect',\n",
       " '?',\n",
       " 'I',\n",
       " 'have',\n",
       " 'a',\n",
       " 'third',\n",
       " 'vision',\n",
       " '.',\n",
       " 'India',\n",
       " 'must',\n",
       " 'stand',\n",
       " 'up',\n",
       " 'to',\n",
       " 'the',\n",
       " 'world',\n",
       " '.',\n",
       " 'Because',\n",
       " 'I',\n",
       " 'believe',\n",
       " 'that',\n",
       " 'unless',\n",
       " 'India',\n",
       " 'stands',\n",
       " 'up',\n",
       " 'to',\n",
       " 'the',\n",
       " 'world',\n",
       " ',',\n",
       " 'no',\n",
       " 'one',\n",
       " 'will',\n",
       " 'respect',\n",
       " 'us',\n",
       " '.',\n",
       " 'Only',\n",
       " 'strength',\n",
       " 'respects',\n",
       " 'strength',\n",
       " '.',\n",
       " 'We',\n",
       " 'must',\n",
       " 'be',\n",
       " 'strong',\n",
       " 'not',\n",
       " 'only',\n",
       " 'as',\n",
       " 'a',\n",
       " 'military',\n",
       " 'power',\n",
       " 'but',\n",
       " 'also',\n",
       " 'as',\n",
       " 'an',\n",
       " 'economic',\n",
       " 'power',\n",
       " '.',\n",
       " 'Both',\n",
       " 'must',\n",
       " 'go',\n",
       " 'hand-in-hand',\n",
       " '.',\n",
       " 'My',\n",
       " 'good',\n",
       " 'fortune',\n",
       " 'was',\n",
       " 'to',\n",
       " 'have',\n",
       " 'worked',\n",
       " 'with',\n",
       " 'three',\n",
       " 'great',\n",
       " 'minds',\n",
       " '.',\n",
       " 'Dr.',\n",
       " 'Vikram',\n",
       " 'Sarabhai',\n",
       " 'of',\n",
       " 'the',\n",
       " 'Dept',\n",
       " '.',\n",
       " 'of',\n",
       " 'space',\n",
       " ',',\n",
       " 'Professor',\n",
       " 'Satish',\n",
       " 'Dhawan',\n",
       " ',',\n",
       " 'who',\n",
       " 'succeeded',\n",
       " 'him',\n",
       " 'and',\n",
       " 'Dr.',\n",
       " 'Brahm',\n",
       " 'Prakash',\n",
       " ',',\n",
       " 'father',\n",
       " 'of',\n",
       " 'nuclear',\n",
       " 'material',\n",
       " '.',\n",
       " 'I',\n",
       " 'was',\n",
       " 'lucky',\n",
       " 'to',\n",
       " 'have',\n",
       " 'worked',\n",
       " 'with',\n",
       " 'all',\n",
       " 'three',\n",
       " 'of',\n",
       " 'them',\n",
       " 'closely',\n",
       " 'and',\n",
       " 'consider',\n",
       " 'this',\n",
       " 'the',\n",
       " 'great',\n",
       " 'opportunity',\n",
       " 'of',\n",
       " 'my',\n",
       " 'life',\n",
       " '.',\n",
       " 'I',\n",
       " 'see',\n",
       " 'four',\n",
       " 'milestones',\n",
       " 'in',\n",
       " 'my',\n",
       " 'career']"
      ]
     },
     "execution_count": 307,
     "metadata": {},
     "output_type": "execute_result"
    }
   ],
   "source": [
    "words = word_tokenize(paragraph)\n",
    "words"
   ]
  },
  {
   "cell_type": "code",
   "execution_count": 308,
   "id": "7ea55527-e4b3-4744-ab69-5f219be6648b",
   "metadata": {},
   "outputs": [
    {
     "data": {
      "text/plain": [
       "399"
      ]
     },
     "execution_count": 308,
     "metadata": {},
     "output_type": "execute_result"
    }
   ],
   "source": [
    "len(words)"
   ]
  },
  {
   "cell_type": "code",
   "execution_count": 309,
   "id": "bee4906f-3631-4e29-94f0-560f9cf7aa2d",
   "metadata": {},
   "outputs": [],
   "source": [
    "stop_words = set(stopwords.words('english'))"
   ]
  },
  {
   "cell_type": "code",
   "execution_count": 310,
   "id": "d3b49532-0a9c-4990-a3f1-cc1eaa6ae93a",
   "metadata": {},
   "outputs": [],
   "source": [
    "filtered_words = []\n",
    "for word in words:\n",
    "    if word not in stop_words:\n",
    "        filtered_words.append(snowballstemmer.stem(word))        "
   ]
  },
  {
   "cell_type": "code",
   "execution_count": 311,
   "id": "9df1cfbf-60f0-4302-aec8-85efa920733a",
   "metadata": {
    "scrolled": true
   },
   "outputs": [
    {
     "data": {
      "text/plain": [
       "['i',\n",
       " 'three',\n",
       " 'vision',\n",
       " 'india',\n",
       " '.',\n",
       " 'in',\n",
       " '3000',\n",
       " 'year',\n",
       " 'histori',\n",
       " ',',\n",
       " 'peopl',\n",
       " 'world',\n",
       " 'come',\n",
       " 'invad',\n",
       " 'us',\n",
       " ',',\n",
       " 'captur',\n",
       " 'land',\n",
       " ',',\n",
       " 'conquer',\n",
       " 'mind',\n",
       " '.',\n",
       " 'from',\n",
       " 'alexand',\n",
       " 'onward',\n",
       " ',',\n",
       " 'greek',\n",
       " ',',\n",
       " 'turk',\n",
       " ',',\n",
       " 'mogul',\n",
       " ',',\n",
       " 'portugues',\n",
       " ',',\n",
       " 'british',\n",
       " ',',\n",
       " 'french',\n",
       " ',',\n",
       " 'dutch',\n",
       " ',',\n",
       " 'came',\n",
       " 'loot',\n",
       " 'us',\n",
       " ',',\n",
       " 'took',\n",
       " '.',\n",
       " 'yet',\n",
       " 'done',\n",
       " 'nation',\n",
       " '.',\n",
       " 'we',\n",
       " 'conquer',\n",
       " 'anyon',\n",
       " '.',\n",
       " 'we',\n",
       " 'grab',\n",
       " 'land',\n",
       " ',',\n",
       " 'cultur',\n",
       " ',',\n",
       " 'histori',\n",
       " 'tri',\n",
       " 'enforc',\n",
       " 'way',\n",
       " 'life',\n",
       " '.',\n",
       " 'whi',\n",
       " '?',\n",
       " 'becaus',\n",
       " 'respect',\n",
       " 'freedom',\n",
       " 'others.that',\n",
       " 'first',\n",
       " 'vision',\n",
       " 'freedom',\n",
       " '.',\n",
       " 'i',\n",
       " 'believ',\n",
       " 'india',\n",
       " 'got',\n",
       " 'first',\n",
       " 'vision',\n",
       " '1857',\n",
       " ',',\n",
       " 'start',\n",
       " 'war',\n",
       " 'independ',\n",
       " '.',\n",
       " 'it',\n",
       " 'freedom',\n",
       " 'must',\n",
       " 'protect',\n",
       " 'nurtur',\n",
       " 'build',\n",
       " '.',\n",
       " 'if',\n",
       " 'free',\n",
       " ',',\n",
       " 'one',\n",
       " 'respect',\n",
       " 'us',\n",
       " '.',\n",
       " 'my',\n",
       " 'second',\n",
       " 'vision',\n",
       " 'india',\n",
       " '’',\n",
       " 'develop',\n",
       " '.',\n",
       " 'for',\n",
       " 'fifti',\n",
       " 'year',\n",
       " 'develop',\n",
       " 'nation',\n",
       " '.',\n",
       " 'it',\n",
       " 'time',\n",
       " 'see',\n",
       " 'develop',\n",
       " 'nation',\n",
       " '.',\n",
       " 'we',\n",
       " 'among',\n",
       " 'top',\n",
       " '5',\n",
       " 'nation',\n",
       " 'world',\n",
       " 'term',\n",
       " 'gdp',\n",
       " '.',\n",
       " 'we',\n",
       " '10',\n",
       " 'percent',\n",
       " 'growth',\n",
       " 'rate',\n",
       " 'area',\n",
       " '.',\n",
       " 'our',\n",
       " 'poverti',\n",
       " 'level',\n",
       " 'fall',\n",
       " '.',\n",
       " 'our',\n",
       " 'achiev',\n",
       " 'global',\n",
       " 'recognis',\n",
       " 'today',\n",
       " '.',\n",
       " 'yet',\n",
       " 'lack',\n",
       " 'self-confid',\n",
       " 'see',\n",
       " 'develop',\n",
       " 'nation',\n",
       " ',',\n",
       " 'self-reli',\n",
       " 'self-assur',\n",
       " '.',\n",
       " 'isn',\n",
       " '’',\n",
       " 'incorrect',\n",
       " '?',\n",
       " 'i',\n",
       " 'third',\n",
       " 'vision',\n",
       " '.',\n",
       " 'india',\n",
       " 'must',\n",
       " 'stand',\n",
       " 'world',\n",
       " '.',\n",
       " 'becaus',\n",
       " 'i',\n",
       " 'believ',\n",
       " 'unless',\n",
       " 'india',\n",
       " 'stand',\n",
       " 'world',\n",
       " ',',\n",
       " 'one',\n",
       " 'respect',\n",
       " 'us',\n",
       " '.',\n",
       " 'onli',\n",
       " 'strength',\n",
       " 'respect',\n",
       " 'strength',\n",
       " '.',\n",
       " 'we',\n",
       " 'must',\n",
       " 'strong',\n",
       " 'militari',\n",
       " 'power',\n",
       " 'also',\n",
       " 'econom',\n",
       " 'power',\n",
       " '.',\n",
       " 'both',\n",
       " 'must',\n",
       " 'go',\n",
       " 'hand-in-hand',\n",
       " '.',\n",
       " 'my',\n",
       " 'good',\n",
       " 'fortun',\n",
       " 'work',\n",
       " 'three',\n",
       " 'great',\n",
       " 'mind',\n",
       " '.',\n",
       " 'dr.',\n",
       " 'vikram',\n",
       " 'sarabhai',\n",
       " 'dept',\n",
       " '.',\n",
       " 'space',\n",
       " ',',\n",
       " 'professor',\n",
       " 'satish',\n",
       " 'dhawan',\n",
       " ',',\n",
       " 'succeed',\n",
       " 'dr.',\n",
       " 'brahm',\n",
       " 'prakash',\n",
       " ',',\n",
       " 'father',\n",
       " 'nuclear',\n",
       " 'materi',\n",
       " '.',\n",
       " 'i',\n",
       " 'lucki',\n",
       " 'work',\n",
       " 'three',\n",
       " 'close',\n",
       " 'consid',\n",
       " 'great',\n",
       " 'opportun',\n",
       " 'life',\n",
       " '.',\n",
       " 'i',\n",
       " 'see',\n",
       " 'four',\n",
       " 'mileston',\n",
       " 'career']"
      ]
     },
     "execution_count": 311,
     "metadata": {},
     "output_type": "execute_result"
    }
   ],
   "source": [
    "filtered_words"
   ]
  },
  {
   "cell_type": "code",
   "execution_count": 322,
   "id": "875902f4-b6a6-4c27-9913-6327094c08b7",
   "metadata": {},
   "outputs": [],
   "source": [
    "paragraph = ' '.join(filtered_words)"
   ]
  },
  {
   "cell_type": "code",
   "execution_count": 323,
   "id": "7cc08e5d-eef2-4138-8c3d-3dee2c78dd71",
   "metadata": {},
   "outputs": [],
   "source": [
    "sentences = sent_tokenize(paragraph)"
   ]
  },
  {
   "cell_type": "code",
   "execution_count": 324,
   "id": "c4c65903-aefe-4d15-b087-cb83436b812e",
   "metadata": {},
   "outputs": [
    {
     "data": {
      "text/plain": [
       "['i three vision india .',\n",
       " 'in 3000 year history , people world come invaded u , captured land , conquered mind .',\n",
       " 'from alexander onwards , greek , turk , mogul , portuguese , british , french , dutch , came looted u , took .',\n",
       " 'yet done nation .',\n",
       " 'we conquered anyone .',\n",
       " 'we grabbed land , culture , history tried enforce way life .',\n",
       " 'why ?',\n",
       " 'because respect freedom others.that first vision freedom .',\n",
       " 'i believe india got first vision 1857 , started war independence .',\n",
       " 'it freedom must protect nurture build .',\n",
       " 'if free , one respect u .',\n",
       " 'my second vision india ’ development .',\n",
       " 'for fifty year developing nation .',\n",
       " 'it time see developed nation .',\n",
       " 'we among top 5 nation world term gdp .',\n",
       " 'we 10 percent growth rate area .',\n",
       " 'our poverty level falling .',\n",
       " 'our achievement globally recognised today .',\n",
       " 'yet lack self-confidence see developed nation , self-reliant self-assured .',\n",
       " 'isn ’ incorrect ?',\n",
       " 'i third vision .',\n",
       " 'india must stand world .',\n",
       " 'because i believe unless india stand world , one respect u .',\n",
       " 'only strength respect strength .',\n",
       " 'we must strong military power also economic power .',\n",
       " 'both must go hand-in-hand .',\n",
       " 'my good fortune worked three great mind .',\n",
       " 'dr. vikram sarabhai dept .',\n",
       " 'space , professor satish dhawan , succeeded dr. brahm prakash , father nuclear material .',\n",
       " 'i lucky worked three closely consider great opportunity life .',\n",
       " 'i see four milestone career']"
      ]
     },
     "execution_count": 324,
     "metadata": {},
     "output_type": "execute_result"
    }
   ],
   "source": [
    "sentences"
   ]
  },
  {
   "cell_type": "code",
   "execution_count": 315,
   "id": "e9eee160-82fb-4465-9e5e-1084a56620dc",
   "metadata": {},
   "outputs": [],
   "source": [
    "from nltk.stem import WordNetLemmatizer"
   ]
  },
  {
   "cell_type": "code",
   "execution_count": 321,
   "id": "edcbe851-c169-419e-a2ed-d7bb5e467727",
   "metadata": {},
   "outputs": [],
   "source": [
    "filtered_words = []\n",
    "for word in words:\n",
    "    if word not in stop_words:\n",
    "        filtered_words.append(lemmatizer.lemmatize(word.lower()))        "
   ]
  },
  {
   "cell_type": "code",
   "execution_count": 328,
   "id": "432a896a-c20c-455b-be77-906d95d3377d",
   "metadata": {},
   "outputs": [
    {
     "name": "stderr",
     "output_type": "stream",
     "text": [
      "[nltk_data] Downloading package averaged_perceptron_tagger_eng to\n",
      "[nltk_data]     C:\\Users\\Yashasvi\\AppData\\Roaming\\nltk_data...\n",
      "[nltk_data]   Unzipping taggers\\averaged_perceptron_tagger_eng.zip.\n"
     ]
    },
    {
     "data": {
      "text/plain": [
       "True"
      ]
     },
     "execution_count": 328,
     "metadata": {},
     "output_type": "execute_result"
    }
   ],
   "source": [
    "# Parts of Speech bagging\n",
    "nltk.download('averaged_perceptron_tagger_eng')\n"
   ]
  },
  {
   "cell_type": "code",
   "execution_count": 333,
   "id": "53a57fbb-d953-4363-b8a7-736a6e5803c3",
   "metadata": {
    "collapsed": true,
    "jupyter": {
     "outputs_hidden": true
    }
   },
   "outputs": [
    {
     "data": {
      "text/plain": [
       "[('I', 'PRP'),\n",
       " ('have', 'VBP'),\n",
       " ('three', 'CD'),\n",
       " ('visions', 'NNS'),\n",
       " ('for', 'IN'),\n",
       " ('India', 'NNP'),\n",
       " ('.', '.'),\n",
       " ('In', 'IN'),\n",
       " ('3000', 'CD'),\n",
       " ('years', 'NNS'),\n",
       " ('of', 'IN'),\n",
       " ('our', 'PRP$'),\n",
       " ('history', 'NN'),\n",
       " (',', ','),\n",
       " ('people', 'NNS'),\n",
       " ('from', 'IN'),\n",
       " ('all', 'DT'),\n",
       " ('over', 'IN'),\n",
       " ('the', 'DT'),\n",
       " ('world', 'NN'),\n",
       " ('have', 'VBP'),\n",
       " ('come', 'VBN'),\n",
       " ('and', 'CC'),\n",
       " ('invaded', 'VBN'),\n",
       " ('us', 'PRP'),\n",
       " (',', ','),\n",
       " ('captured', 'VBD'),\n",
       " ('our', 'PRP$'),\n",
       " ('lands', 'NNS'),\n",
       " (',', ','),\n",
       " ('conquered', 'VBD'),\n",
       " ('our', 'PRP$'),\n",
       " ('minds', 'NNS'),\n",
       " ('.', '.'),\n",
       " ('From', 'IN'),\n",
       " ('Alexander', 'NNP'),\n",
       " ('onwards', 'NNS'),\n",
       " (',', ','),\n",
       " ('the', 'DT'),\n",
       " ('Greeks', 'NNP'),\n",
       " (',', ','),\n",
       " ('the', 'DT'),\n",
       " ('Turks', 'NNP'),\n",
       " (',', ','),\n",
       " ('the', 'DT'),\n",
       " ('Moguls', 'NNP'),\n",
       " (',', ','),\n",
       " ('the', 'DT'),\n",
       " ('Portuguese', 'NNP'),\n",
       " (',', ','),\n",
       " ('the', 'DT'),\n",
       " ('British', 'JJ'),\n",
       " (',', ','),\n",
       " ('the', 'DT'),\n",
       " ('French', 'JJ'),\n",
       " (',', ','),\n",
       " ('the', 'DT'),\n",
       " ('Dutch', 'NNP'),\n",
       " (',', ','),\n",
       " ('all', 'DT'),\n",
       " ('of', 'IN'),\n",
       " ('them', 'PRP'),\n",
       " ('came', 'VBD'),\n",
       " ('and', 'CC'),\n",
       " ('looted', 'VBD'),\n",
       " ('us', 'PRP'),\n",
       " (',', ','),\n",
       " ('took', 'VBD'),\n",
       " ('over', 'RP'),\n",
       " ('what', 'WP'),\n",
       " ('was', 'VBD'),\n",
       " ('ours', 'RB'),\n",
       " ('.', '.'),\n",
       " ('Yet', 'CC'),\n",
       " ('we', 'PRP'),\n",
       " ('have', 'VBP'),\n",
       " ('not', 'RB'),\n",
       " ('done', 'VBN'),\n",
       " ('this', 'DT'),\n",
       " ('to', 'TO'),\n",
       " ('any', 'DT'),\n",
       " ('other', 'JJ'),\n",
       " ('nation', 'NN'),\n",
       " ('.', '.'),\n",
       " ('We', 'PRP'),\n",
       " ('have', 'VBP'),\n",
       " ('not', 'RB'),\n",
       " ('conquered', 'VBN'),\n",
       " ('anyone', 'NN'),\n",
       " ('.', '.'),\n",
       " ('We', 'PRP'),\n",
       " ('have', 'VBP'),\n",
       " ('not', 'RB'),\n",
       " ('grabbed', 'VBN'),\n",
       " ('their', 'PRP$'),\n",
       " ('land', 'NN'),\n",
       " (',', ','),\n",
       " ('their', 'PRP$'),\n",
       " ('culture', 'NN'),\n",
       " (',', ','),\n",
       " ('their', 'PRP$'),\n",
       " ('history', 'NN'),\n",
       " ('and', 'CC'),\n",
       " ('tried', 'VBD'),\n",
       " ('to', 'TO'),\n",
       " ('enforce', 'VB'),\n",
       " ('our', 'PRP$'),\n",
       " ('way', 'NN'),\n",
       " ('of', 'IN'),\n",
       " ('life', 'NN'),\n",
       " ('on', 'IN'),\n",
       " ('them', 'PRP'),\n",
       " ('.', '.'),\n",
       " ('Why', 'WRB'),\n",
       " ('?', '.'),\n",
       " ('Because', 'IN'),\n",
       " ('we', 'PRP'),\n",
       " ('respect', 'VBP'),\n",
       " ('the', 'DT'),\n",
       " ('freedom', 'NN'),\n",
       " ('of', 'IN'),\n",
       " ('others.That', 'WP'),\n",
       " ('is', 'VBZ'),\n",
       " ('why', 'WRB'),\n",
       " ('my', 'PRP$'),\n",
       " ('first', 'JJ'),\n",
       " ('vision', 'NN'),\n",
       " ('is', 'VBZ'),\n",
       " ('that', 'IN'),\n",
       " ('of', 'IN'),\n",
       " ('freedom', 'NN'),\n",
       " ('.', '.'),\n",
       " ('I', 'PRP'),\n",
       " ('believe', 'VBP'),\n",
       " ('that', 'IN'),\n",
       " ('India', 'NNP'),\n",
       " ('got', 'VBD'),\n",
       " ('its', 'PRP$'),\n",
       " ('first', 'JJ'),\n",
       " ('vision', 'NN'),\n",
       " ('of', 'IN'),\n",
       " ('this', 'DT'),\n",
       " ('in', 'IN'),\n",
       " ('1857', 'CD'),\n",
       " (',', ','),\n",
       " ('when', 'WRB'),\n",
       " ('we', 'PRP'),\n",
       " ('started', 'VBD'),\n",
       " ('the', 'DT'),\n",
       " ('War', 'NNP'),\n",
       " ('of', 'IN'),\n",
       " ('Independence', 'NNP'),\n",
       " ('.', '.'),\n",
       " ('It', 'PRP'),\n",
       " ('is', 'VBZ'),\n",
       " ('this', 'DT'),\n",
       " ('freedom', 'NN'),\n",
       " ('that', 'IN'),\n",
       " ('we', 'PRP'),\n",
       " ('must', 'MD'),\n",
       " ('protect', 'VB'),\n",
       " ('and', 'CC'),\n",
       " ('nurture', 'NN'),\n",
       " ('and', 'CC'),\n",
       " ('build', 'VB'),\n",
       " ('on', 'IN'),\n",
       " ('.', '.'),\n",
       " ('If', 'IN'),\n",
       " ('we', 'PRP'),\n",
       " ('are', 'VBP'),\n",
       " ('not', 'RB'),\n",
       " ('free', 'JJ'),\n",
       " (',', ','),\n",
       " ('no', 'DT'),\n",
       " ('one', 'NN'),\n",
       " ('will', 'MD'),\n",
       " ('respect', 'VB'),\n",
       " ('us', 'PRP'),\n",
       " ('.', '.'),\n",
       " ('My', 'PRP$'),\n",
       " ('second', 'JJ'),\n",
       " ('vision', 'NN'),\n",
       " ('for', 'IN'),\n",
       " ('India', 'NNP'),\n",
       " ('’', 'NNP'),\n",
       " ('s', 'NN'),\n",
       " ('development', 'NN'),\n",
       " ('.', '.'),\n",
       " ('For', 'IN'),\n",
       " ('fifty', 'JJ'),\n",
       " ('years', 'NNS'),\n",
       " ('we', 'PRP'),\n",
       " ('have', 'VBP'),\n",
       " ('been', 'VBN'),\n",
       " ('a', 'DT'),\n",
       " ('developing', 'VBG'),\n",
       " ('nation', 'NN'),\n",
       " ('.', '.'),\n",
       " ('It', 'PRP'),\n",
       " ('is', 'VBZ'),\n",
       " ('time', 'NN'),\n",
       " ('we', 'PRP'),\n",
       " ('see', 'VBP'),\n",
       " ('ourselves', 'PRP'),\n",
       " ('as', 'IN'),\n",
       " ('a', 'DT'),\n",
       " ('developed', 'JJ'),\n",
       " ('nation', 'NN'),\n",
       " ('.', '.'),\n",
       " ('We', 'PRP'),\n",
       " ('are', 'VBP'),\n",
       " ('among', 'IN'),\n",
       " ('the', 'DT'),\n",
       " ('top', 'JJ'),\n",
       " ('5', 'CD'),\n",
       " ('nations', 'NNS'),\n",
       " ('of', 'IN'),\n",
       " ('the', 'DT'),\n",
       " ('world', 'NN'),\n",
       " ('in', 'IN'),\n",
       " ('terms', 'NNS'),\n",
       " ('of', 'IN'),\n",
       " ('GDP', 'NNP'),\n",
       " ('.', '.'),\n",
       " ('We', 'PRP'),\n",
       " ('have', 'VBP'),\n",
       " ('a', 'DT'),\n",
       " ('10', 'CD'),\n",
       " ('percent', 'NN'),\n",
       " ('growth', 'NN'),\n",
       " ('rate', 'NN'),\n",
       " ('in', 'IN'),\n",
       " ('most', 'JJS'),\n",
       " ('areas', 'NNS'),\n",
       " ('.', '.'),\n",
       " ('Our', 'PRP$'),\n",
       " ('poverty', 'NN'),\n",
       " ('levels', 'NNS'),\n",
       " ('are', 'VBP'),\n",
       " ('falling', 'VBG'),\n",
       " ('.', '.'),\n",
       " ('Our', 'PRP$'),\n",
       " ('achievements', 'NNS'),\n",
       " ('are', 'VBP'),\n",
       " ('being', 'VBG'),\n",
       " ('globally', 'RB'),\n",
       " ('recognised', 'VBN'),\n",
       " ('today', 'NN'),\n",
       " ('.', '.'),\n",
       " ('Yet', 'CC'),\n",
       " ('we', 'PRP'),\n",
       " ('lack', 'VBP'),\n",
       " ('the', 'DT'),\n",
       " ('self-confidence', 'NN'),\n",
       " ('to', 'TO'),\n",
       " ('see', 'VB'),\n",
       " ('ourselves', 'PRP'),\n",
       " ('as', 'IN'),\n",
       " ('a', 'DT'),\n",
       " ('developed', 'JJ'),\n",
       " ('nation', 'NN'),\n",
       " (',', ','),\n",
       " ('self-reliant', 'JJ'),\n",
       " ('and', 'CC'),\n",
       " ('self-assured', 'JJ'),\n",
       " ('.', '.'),\n",
       " ('Isn', 'NNP'),\n",
       " ('’', 'NNP'),\n",
       " ('t', 'NN'),\n",
       " ('this', 'DT'),\n",
       " ('incorrect', 'NN'),\n",
       " ('?', '.'),\n",
       " ('I', 'PRP'),\n",
       " ('have', 'VBP'),\n",
       " ('a', 'DT'),\n",
       " ('third', 'JJ'),\n",
       " ('vision', 'NN'),\n",
       " ('.', '.'),\n",
       " ('India', 'NNP'),\n",
       " ('must', 'MD'),\n",
       " ('stand', 'VB'),\n",
       " ('up', 'RP'),\n",
       " ('to', 'TO'),\n",
       " ('the', 'DT'),\n",
       " ('world', 'NN'),\n",
       " ('.', '.'),\n",
       " ('Because', 'IN'),\n",
       " ('I', 'PRP'),\n",
       " ('believe', 'VBP'),\n",
       " ('that', 'IN'),\n",
       " ('unless', 'IN'),\n",
       " ('India', 'NNP'),\n",
       " ('stands', 'VBZ'),\n",
       " ('up', 'RP'),\n",
       " ('to', 'TO'),\n",
       " ('the', 'DT'),\n",
       " ('world', 'NN'),\n",
       " (',', ','),\n",
       " ('no', 'DT'),\n",
       " ('one', 'NN'),\n",
       " ('will', 'MD'),\n",
       " ('respect', 'VB'),\n",
       " ('us', 'PRP'),\n",
       " ('.', '.'),\n",
       " ('Only', 'RB'),\n",
       " ('strength', 'NN'),\n",
       " ('respects', 'NNS'),\n",
       " ('strength', 'NN'),\n",
       " ('.', '.'),\n",
       " ('We', 'PRP'),\n",
       " ('must', 'MD'),\n",
       " ('be', 'VB'),\n",
       " ('strong', 'JJ'),\n",
       " ('not', 'RB'),\n",
       " ('only', 'RB'),\n",
       " ('as', 'IN'),\n",
       " ('a', 'DT'),\n",
       " ('military', 'JJ'),\n",
       " ('power', 'NN'),\n",
       " ('but', 'CC'),\n",
       " ('also', 'RB'),\n",
       " ('as', 'IN'),\n",
       " ('an', 'DT'),\n",
       " ('economic', 'JJ'),\n",
       " ('power', 'NN'),\n",
       " ('.', '.'),\n",
       " ('Both', 'DT'),\n",
       " ('must', 'MD'),\n",
       " ('go', 'VB'),\n",
       " ('hand-in-hand', 'NN'),\n",
       " ('.', '.'),\n",
       " ('My', 'PRP$'),\n",
       " ('good', 'JJ'),\n",
       " ('fortune', 'NN'),\n",
       " ('was', 'VBD'),\n",
       " ('to', 'TO'),\n",
       " ('have', 'VB'),\n",
       " ('worked', 'VBN'),\n",
       " ('with', 'IN'),\n",
       " ('three', 'CD'),\n",
       " ('great', 'JJ'),\n",
       " ('minds', 'NNS'),\n",
       " ('.', '.'),\n",
       " ('Dr.', 'NNP'),\n",
       " ('Vikram', 'NNP'),\n",
       " ('Sarabhai', 'NNP'),\n",
       " ('of', 'IN'),\n",
       " ('the', 'DT'),\n",
       " ('Dept', 'NNP'),\n",
       " ('.', '.'),\n",
       " ('of', 'IN'),\n",
       " ('space', 'NN'),\n",
       " (',', ','),\n",
       " ('Professor', 'NNP'),\n",
       " ('Satish', 'NNP'),\n",
       " ('Dhawan', 'NNP'),\n",
       " (',', ','),\n",
       " ('who', 'WP'),\n",
       " ('succeeded', 'VBD'),\n",
       " ('him', 'PRP'),\n",
       " ('and', 'CC'),\n",
       " ('Dr.', 'NNP'),\n",
       " ('Brahm', 'NNP'),\n",
       " ('Prakash', 'NNP'),\n",
       " (',', ','),\n",
       " ('father', 'NN'),\n",
       " ('of', 'IN'),\n",
       " ('nuclear', 'JJ'),\n",
       " ('material', 'NN'),\n",
       " ('.', '.'),\n",
       " ('I', 'PRP'),\n",
       " ('was', 'VBD'),\n",
       " ('lucky', 'JJ'),\n",
       " ('to', 'TO'),\n",
       " ('have', 'VB'),\n",
       " ('worked', 'VBN'),\n",
       " ('with', 'IN'),\n",
       " ('all', 'DT'),\n",
       " ('three', 'CD'),\n",
       " ('of', 'IN'),\n",
       " ('them', 'PRP'),\n",
       " ('closely', 'RB'),\n",
       " ('and', 'CC'),\n",
       " ('consider', 'VB'),\n",
       " ('this', 'DT'),\n",
       " ('the', 'DT'),\n",
       " ('great', 'JJ'),\n",
       " ('opportunity', 'NN'),\n",
       " ('of', 'IN'),\n",
       " ('my', 'PRP$'),\n",
       " ('life', 'NN'),\n",
       " ('.', '.'),\n",
       " ('I', 'PRP'),\n",
       " ('see', 'VBP'),\n",
       " ('four', 'CD'),\n",
       " ('milestones', 'NNS'),\n",
       " ('in', 'IN'),\n",
       " ('my', 'PRP$'),\n",
       " ('career', 'NN')]"
      ]
     },
     "execution_count": 333,
     "metadata": {},
     "output_type": "execute_result"
    }
   ],
   "source": [
    "nltk.pos_tag(words)"
   ]
  },
  {
   "cell_type": "code",
   "execution_count": 355,
   "id": "83a55625-f1bc-4191-9d84-55fbbbc3e80d",
   "metadata": {},
   "outputs": [
    {
     "data": {
      "text/plain": [
       "[('i', 'JJ'), ('three', 'CD'), ('vision', 'NN'), ('india', 'NN'), ('.', '.')]"
      ]
     },
     "execution_count": 355,
     "metadata": {},
     "output_type": "execute_result"
    }
   ],
   "source": [
    "nltk.pos_tag(sentences[0].split())"
   ]
  },
  {
   "cell_type": "code",
   "execution_count": null,
   "id": "ca774193-2a04-4208-be80-1acfc5e7a5e6",
   "metadata": {},
   "outputs": [],
   "source": []
  },
  {
   "cell_type": "code",
   "execution_count": null,
   "id": "e16b1c00-2ea4-48f6-9071-c96fee3c88fa",
   "metadata": {},
   "outputs": [],
   "source": []
  }
 ],
 "metadata": {
  "kernelspec": {
   "display_name": "Python 3 (ipykernel)",
   "language": "python",
   "name": "python3"
  },
  "language_info": {
   "codemirror_mode": {
    "name": "ipython",
    "version": 3
   },
   "file_extension": ".py",
   "mimetype": "text/x-python",
   "name": "python",
   "nbconvert_exporter": "python",
   "pygments_lexer": "ipython3",
   "version": "3.12.7"
  }
 },
 "nbformat": 4,
 "nbformat_minor": 5
}
