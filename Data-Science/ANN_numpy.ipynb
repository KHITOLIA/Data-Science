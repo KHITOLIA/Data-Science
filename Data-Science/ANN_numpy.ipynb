{
 "cells": [
  {
   "cell_type": "code",
   "execution_count": 1,
   "id": "f5616745",
   "metadata": {},
   "outputs": [],
   "source": [
    "import numpy as np\n",
    "import pandas as pd\n",
    "from sklearn.model_selection import train_test_split\n",
    "import matplotlib.pyplot as plt"
   ]
  },
  {
   "cell_type": "code",
   "execution_count": 2,
   "id": "14c80e83",
   "metadata": {},
   "outputs": [],
   "source": [
    "dataset = pd.read_csv('C:/Users/bhatt/OneDrive/Desktop/whisper-main/ANN_Data/data1.csv', header=None)\n",
    "labels = pd.read_csv('C:/Users/bhatt/OneDrive/Desktop/whisper-main/ANN_Data/label1.csv', header=None)"
   ]
  },
  {
   "cell_type": "code",
   "execution_count": 3,
   "id": "ca39b261",
   "metadata": {},
   "outputs": [
    {
     "data": {
      "text/html": [
       "<div>\n",
       "<style scoped>\n",
       "    .dataframe tbody tr th:only-of-type {\n",
       "        vertical-align: middle;\n",
       "    }\n",
       "\n",
       "    .dataframe tbody tr th {\n",
       "        vertical-align: top;\n",
       "    }\n",
       "\n",
       "    .dataframe thead th {\n",
       "        text-align: right;\n",
       "    }\n",
       "</style>\n",
       "<table border=\"1\" class=\"dataframe\">\n",
       "  <thead>\n",
       "    <tr style=\"text-align: right;\">\n",
       "      <th></th>\n",
       "      <th>0</th>\n",
       "    </tr>\n",
       "  </thead>\n",
       "  <tbody>\n",
       "    <tr>\n",
       "      <th>0</th>\n",
       "      <td>3</td>\n",
       "    </tr>\n",
       "    <tr>\n",
       "      <th>1</th>\n",
       "      <td>2</td>\n",
       "    </tr>\n",
       "    <tr>\n",
       "      <th>2</th>\n",
       "      <td>2</td>\n",
       "    </tr>\n",
       "    <tr>\n",
       "      <th>3</th>\n",
       "      <td>3</td>\n",
       "    </tr>\n",
       "    <tr>\n",
       "      <th>4</th>\n",
       "      <td>3</td>\n",
       "    </tr>\n",
       "  </tbody>\n",
       "</table>\n",
       "</div>"
      ],
      "text/plain": [
       "   0\n",
       "0  3\n",
       "1  2\n",
       "2  2\n",
       "3  3\n",
       "4  3"
      ]
     },
     "execution_count": 3,
     "metadata": {},
     "output_type": "execute_result"
    }
   ],
   "source": [
    "labels.head()"
   ]
  },
  {
   "cell_type": "code",
   "execution_count": 4,
   "id": "b849344b",
   "metadata": {},
   "outputs": [
    {
     "data": {
      "text/plain": [
       "((20000, 1), (20000, 20))"
      ]
     },
     "execution_count": 4,
     "metadata": {},
     "output_type": "execute_result"
    }
   ],
   "source": [
    "labels.shape, dataset.shape"
   ]
  },
  {
   "cell_type": "code",
   "execution_count": 5,
   "id": "6293f76c",
   "metadata": {},
   "outputs": [
    {
     "data": {
      "text/html": [
       "<div>\n",
       "<style scoped>\n",
       "    .dataframe tbody tr th:only-of-type {\n",
       "        vertical-align: middle;\n",
       "    }\n",
       "\n",
       "    .dataframe tbody tr th {\n",
       "        vertical-align: top;\n",
       "    }\n",
       "\n",
       "    .dataframe thead th {\n",
       "        text-align: right;\n",
       "    }\n",
       "</style>\n",
       "<table border=\"1\" class=\"dataframe\">\n",
       "  <thead>\n",
       "    <tr style=\"text-align: right;\">\n",
       "      <th></th>\n",
       "      <th>0</th>\n",
       "    </tr>\n",
       "  </thead>\n",
       "  <tbody>\n",
       "    <tr>\n",
       "      <th>0</th>\n",
       "      <td>3</td>\n",
       "    </tr>\n",
       "    <tr>\n",
       "      <th>1</th>\n",
       "      <td>2</td>\n",
       "    </tr>\n",
       "    <tr>\n",
       "      <th>2</th>\n",
       "      <td>2</td>\n",
       "    </tr>\n",
       "    <tr>\n",
       "      <th>3</th>\n",
       "      <td>3</td>\n",
       "    </tr>\n",
       "    <tr>\n",
       "      <th>4</th>\n",
       "      <td>3</td>\n",
       "    </tr>\n",
       "  </tbody>\n",
       "</table>\n",
       "</div>"
      ],
      "text/plain": [
       "   0\n",
       "0  3\n",
       "1  2\n",
       "2  2\n",
       "3  3\n",
       "4  3"
      ]
     },
     "execution_count": 5,
     "metadata": {},
     "output_type": "execute_result"
    }
   ],
   "source": [
    "labels[:5]"
   ]
  },
  {
   "cell_type": "code",
   "execution_count": 6,
   "id": "5c2c4454",
   "metadata": {},
   "outputs": [],
   "source": [
    "dataset = dataset.values\n",
    "labels = labels.values"
   ]
  },
  {
   "cell_type": "code",
   "execution_count": 7,
   "id": "95eca6e4",
   "metadata": {},
   "outputs": [
    {
     "name": "stdout",
     "output_type": "stream",
     "text": [
      "(20000, 20) (20000, 1)\n"
     ]
    }
   ],
   "source": [
    "print(dataset.shape, labels.shape)"
   ]
  },
  {
   "cell_type": "code",
   "execution_count": 8,
   "id": "1fcf57e8",
   "metadata": {},
   "outputs": [
    {
     "name": "stdout",
     "output_type": "stream",
     "text": [
      "0 4\n",
      "[0 1 2 3 4]\n"
     ]
    }
   ],
   "source": [
    "print(np.min(labels), np.max(labels))\n",
    "print(np.unique(labels))"
   ]
  },
  {
   "cell_type": "code",
   "execution_count": 9,
   "id": "6fba834d",
   "metadata": {},
   "outputs": [],
   "source": [
    "max_classes = np.max(labels) + 1"
   ]
  },
  {
   "cell_type": "code",
   "execution_count": 10,
   "id": "c360dfd9",
   "metadata": {},
   "outputs": [
    {
     "data": {
      "text/plain": [
       "5"
      ]
     },
     "execution_count": 10,
     "metadata": {},
     "output_type": "execute_result"
    }
   ],
   "source": [
    "max_classes"
   ]
  },
  {
   "cell_type": "code",
   "execution_count": 11,
   "id": "a8c2df84",
   "metadata": {},
   "outputs": [],
   "source": [
    "onehot_label = np.eye(max_classes)[labels]"
   ]
  },
  {
   "cell_type": "code",
   "execution_count": 12,
   "id": "f2e6e758",
   "metadata": {},
   "outputs": [
    {
     "data": {
      "text/plain": [
       "(20000, 1, 5)"
      ]
     },
     "execution_count": 12,
     "metadata": {},
     "output_type": "execute_result"
    }
   ],
   "source": [
    "onehot_label.shape"
   ]
  },
  {
   "cell_type": "code",
   "execution_count": 13,
   "id": "e32193c4",
   "metadata": {},
   "outputs": [
    {
     "data": {
      "text/plain": [
       "array([[[0., 0., 0., 1., 0.]],\n",
       "\n",
       "       [[0., 0., 1., 0., 0.]],\n",
       "\n",
       "       [[0., 0., 1., 0., 0.]],\n",
       "\n",
       "       [[0., 0., 0., 1., 0.]],\n",
       "\n",
       "       [[0., 0., 0., 1., 0.]]])"
      ]
     },
     "execution_count": 13,
     "metadata": {},
     "output_type": "execute_result"
    }
   ],
   "source": [
    "onehot_label[:5]"
   ]
  },
  {
   "cell_type": "code",
   "execution_count": 14,
   "id": "5984565d",
   "metadata": {},
   "outputs": [
    {
     "name": "stdout",
     "output_type": "stream",
     "text": [
      "(20000, 5)\n"
     ]
    }
   ],
   "source": [
    "onehot_label = onehot_label.reshape(20000, 5)\n",
    "print(onehot_label.shape)"
   ]
  },
  {
   "cell_type": "code",
   "execution_count": 15,
   "id": "72b77164",
   "metadata": {},
   "outputs": [],
   "source": [
    "train_dataset, test_dataset = train_test_split(dataset, train_size=0.8, test_size=0.2)\n",
    "train_label, test_label = train_test_split(onehot_label, train_size=0.8, test_size=0.2)"
   ]
  },
  {
   "cell_type": "code",
   "execution_count": 16,
   "id": "81a986af",
   "metadata": {},
   "outputs": [],
   "source": [
    "hidden_neurons = 15"
   ]
  },
  {
   "cell_type": "code",
   "execution_count": 17,
   "id": "fdff967c",
   "metadata": {},
   "outputs": [],
   "source": [
    "w1=np.random.normal(0, 1/np.sqrt(20), (20,hidden_neurons))\n",
    "w2=np.random.normal(0, 1/np.sqrt(hidden_neurons), (hidden_neurons,5))"
   ]
  },
  {
   "cell_type": "code",
   "execution_count": 18,
   "id": "2c213704",
   "metadata": {},
   "outputs": [
    {
     "name": "stdout",
     "output_type": "stream",
     "text": [
      "[[-3.46426354e-01  6.20164970e-01 -1.69362154e-01 -2.46164724e-01\n",
      "   1.38990596e-01  3.61594968e-01 -1.00423479e-01 -3.46403907e-01\n",
      "   7.56099651e-02 -5.25009724e-02 -1.68578816e-01  2.85102648e-01\n",
      "  -1.39205925e-01  3.86815799e-01 -6.61687725e-02]\n",
      " [-3.75248861e-01 -1.85504106e-01 -2.59315919e-01  2.41559877e-01\n",
      "  -2.45999679e-01  9.32308818e-02 -2.15258997e-01  6.45194074e-02\n",
      "   1.72031275e-01  4.79264155e-02 -2.80251162e-02  8.12330297e-02\n",
      "  -3.18015670e-02 -2.15876639e-01  1.96347540e-02]\n",
      " [-6.43688549e-02  5.39602150e-01 -2.63346341e-01  4.72005381e-01\n",
      "   6.02202758e-02  1.46055035e-01 -8.47886842e-02 -1.25771980e-01\n",
      "  -3.24491248e-01 -2.11145359e-01 -1.66785113e-01  3.52913942e-01\n",
      "  -4.89313970e-02  2.37076308e-01  1.48327920e-01]\n",
      " [ 1.08595693e-01 -1.02715726e-01 -2.14856340e-01 -1.34488721e-01\n",
      "   2.26155448e-01 -2.32604883e-01 -3.92008872e-02  2.48538612e-01\n",
      "  -6.13420226e-02  8.23547860e-02 -7.13773892e-03  9.20955498e-02\n",
      "  -1.39532448e-01 -3.75512535e-01 -1.75061455e-01]\n",
      " [-1.15301892e-01 -7.86971226e-02  8.71252683e-02  1.47011410e-01\n",
      "  -7.95460924e-02  2.35184133e-02  2.59319745e-02  5.45886270e-02\n",
      "   2.92234662e-01  2.96585547e-01  2.74183879e-01 -2.80602216e-02\n",
      "   1.41815700e-01 -3.45514294e-01  1.19960789e-01]\n",
      " [ 2.13356076e-01  3.01712344e-01  4.32223782e-01  4.58821129e-02\n",
      "   1.95156832e-01  2.93311771e-01  4.70132576e-02  1.13605960e-01\n",
      "   1.99677474e-01 -2.79565765e-01 -2.26568668e-01  9.93156771e-04\n",
      "  -2.24557926e-01 -1.23556286e-01 -1.93266836e-01]\n",
      " [-2.05344524e-01 -5.20664936e-01 -3.08176400e-01  3.51791828e-02\n",
      "   2.71556380e-01  5.37523443e-02  1.13415897e-01  2.19443885e-02\n",
      "   5.32888171e-02  1.28670500e-01  1.86651197e-01 -1.08331828e-01\n",
      "  -2.62815600e-01  1.58305510e-02 -1.71359666e-01]\n",
      " [ 3.77268855e-01  2.68869379e-01  1.04841606e-01  3.55997012e-01\n",
      "   7.15568808e-02 -6.27653443e-02 -1.85715536e-02 -4.35195059e-02\n",
      "  -1.93559756e-01 -2.22446628e-01  7.70231832e-02  3.94430301e-01\n",
      "  -2.87494128e-01 -2.47220027e-01 -2.75178706e-02]\n",
      " [ 3.44896801e-02 -3.34230807e-01 -2.36299320e-01 -4.76442579e-01\n",
      "  -2.11938791e-02  1.82086293e-01 -9.79720662e-03 -1.25309242e-01\n",
      "  -9.32529529e-02 -1.52262391e-01  7.77819796e-02 -7.39160948e-02\n",
      "  -5.39751619e-02  3.19524788e-01 -2.26146309e-01]\n",
      " [ 3.61742552e-01  1.54071249e-01 -1.39376947e-01  1.12459258e-01\n",
      "  -5.39895331e-02 -3.62919870e-02  1.27222863e-01  2.13577581e-01\n",
      "  -1.52138591e-01 -1.36930558e-01  5.67902380e-02 -7.43882468e-02\n",
      "   2.09872586e-03  5.53153593e-03  5.31307662e-02]\n",
      " [-2.15399998e-01 -1.93420344e-01  2.05185891e-01 -8.27653727e-02\n",
      "  -3.45518030e-01  9.64581259e-02  3.72611168e-02 -2.17300251e-02\n",
      "   7.71682389e-02  2.99300063e-01  1.60677580e-01 -2.24873631e-01\n",
      "   1.00112783e-01  2.13730725e-01  1.83117835e-01]\n",
      " [-2.49037994e-01  3.45484456e-01  2.89394735e-01  1.28493391e-01\n",
      "  -2.04458914e-02 -3.01466543e-01 -1.85145018e-01  1.79599833e-02\n",
      "  -1.84441067e-02 -2.32402223e-01  3.61258722e-02  2.79589725e-01\n",
      "   1.84562271e-01 -1.92086457e-01 -2.24440203e-02]\n",
      " [-2.12766216e-01  2.96769041e-01  1.03140686e-01 -2.23574696e-01\n",
      "   4.69178829e-02  9.56326073e-02  9.66851628e-02 -9.90237761e-03\n",
      "   1.46703017e-02 -8.24554927e-03  5.39409138e-03 -2.16563659e-03\n",
      "  -1.57464203e-01  7.40987747e-02 -9.02198797e-02]\n",
      " [ 4.15968914e-01  1.04254031e-01 -1.68562411e-02 -1.93485156e-01\n",
      "  -2.46023760e-01 -6.63483544e-02  2.08317237e-01  1.32785516e-01\n",
      "   1.54232852e-01 -2.32019053e-01  2.28424799e-02  4.25684376e-01\n",
      "   4.21529480e-01 -2.11800621e-01 -1.44455147e-01]\n",
      " [ 1.72806418e-01 -3.76471107e-01 -1.57957444e-02  5.34266881e-02\n",
      "  -7.49036184e-02  2.86358980e-01 -7.49351493e-02 -8.94010581e-02\n",
      "   9.12077451e-02  1.77930881e-01  2.05928357e-01  4.17857119e-01\n",
      "  -3.37011275e-01  1.60223132e-01  4.47146716e-01]\n",
      " [-4.58508455e-02  2.05889840e-01  2.68986443e-01  7.32139477e-03\n",
      "  -1.80004247e-01  1.03273646e-01 -5.00734708e-04  1.35457691e-02\n",
      "   4.60849435e-01 -3.01438150e-02  1.24243571e-01  1.18785317e-01\n",
      "   1.92138644e-01  2.27339346e-01 -2.05024247e-01]\n",
      " [-1.83236175e-01 -2.55987595e-01 -2.57216574e-01 -1.69190103e-01\n",
      "   3.17031963e-01 -1.53359944e-03  6.52847348e-02 -5.39417652e-01\n",
      "  -4.97510099e-02  4.43001207e-01 -1.42961567e-02 -1.69677913e-01\n",
      "   4.21274959e-01 -1.19934961e-01 -4.68799454e-02]\n",
      " [-4.01395695e-02  7.42757368e-02 -9.06350353e-02 -2.68568166e-01\n",
      "  -2.31981179e-01 -2.02525220e-01 -4.00392807e-02  2.65608133e-01\n",
      "  -9.13422185e-02 -1.78698332e-01  2.69611265e-01 -1.25945970e-02\n",
      "   2.95797646e-01  3.74510780e-01  4.34757845e-01]\n",
      " [-6.87534666e-02  3.28271101e-01  1.40797176e-01 -3.45349464e-01\n",
      "  -2.16959329e-01  2.00992982e-01 -1.86985265e-01  9.59212743e-02\n",
      "  -1.84366825e-01 -1.14348563e-02  6.90227309e-02 -8.23833103e-02\n",
      "   3.69180795e-02  1.03787104e-01  1.69650405e-01]\n",
      " [ 1.21517693e-01 -1.09524833e-01 -3.20543518e-01  1.72088529e-02\n",
      "  -1.28539981e-01 -1.25606537e-01  9.15993172e-02  1.43534062e-02\n",
      "  -8.35711297e-02 -2.58845204e-01  2.29210191e-01  7.57329591e-02\n",
      "   9.07486282e-02 -8.07268280e-02  7.22628048e-02]] [[ 3.24517646e-01  6.77332345e-02 -7.86223294e-02 -2.15362418e-01\n",
      "   2.04737134e-01]\n",
      " [-1.64345646e-01  7.80636668e-02 -3.16615511e-02  1.92924003e-01\n",
      "   1.69575381e-01]\n",
      " [ 1.79130075e-01  4.73823757e-02  1.71849020e-01 -1.31794094e-01\n",
      "   5.65374774e-02]\n",
      " [-2.95504923e-02  2.35492297e-01  4.11720346e-01 -4.16814329e-01\n",
      "   2.51362258e-01]\n",
      " [-3.55929673e-01  7.13567633e-02 -3.36425769e-01 -3.53436587e-01\n",
      "  -4.04549750e-01]\n",
      " [ 1.75409327e-01 -1.17203451e-01 -1.07683565e-01 -1.06315664e-01\n",
      "  -6.28450795e-02]\n",
      " [ 1.45478965e-01 -6.19111012e-02  3.58147520e-01  1.45811694e-01\n",
      "  -2.11183874e-03]\n",
      " [-2.72210097e-03  6.48071189e-01 -1.12958911e-01 -5.92146158e-02\n",
      "   1.20575993e-01]\n",
      " [-1.96802824e-01  2.06006536e-01 -2.20170809e-01  3.36436246e-01\n",
      "   2.40284301e-01]\n",
      " [-1.21785099e-01  1.57665512e-01  4.36573670e-01 -2.34774641e-01\n",
      "   2.19898980e-01]\n",
      " [-4.44909522e-03  2.48776770e-01 -1.33947147e-01  2.54608199e-02\n",
      "  -5.25206127e-03]\n",
      " [ 1.39485117e-01 -3.10531452e-01  8.80563667e-02 -1.85665981e-01\n",
      "  -2.46126225e-02]\n",
      " [ 3.84077507e-02  4.29401744e-02 -7.54748969e-02  4.01894621e-01\n",
      "   2.43181903e-02]\n",
      " [-1.14888490e-01  2.86548451e-01 -5.82887457e-02 -9.36372819e-02\n",
      "  -4.06302894e-05]\n",
      " [-3.97831678e-01 -1.91975333e-02  3.55793503e-02  4.82994162e-02\n",
      "  -2.23007444e-01]]\n"
     ]
    }
   ],
   "source": [
    "print(w1, w2)"
   ]
  },
  {
   "cell_type": "code",
   "execution_count": 19,
   "id": "685a1a2c",
   "metadata": {},
   "outputs": [],
   "source": [
    "b1 = np.zeros(hidden_neurons)\n",
    "b2 = np.zeros(5)"
   ]
  },
  {
   "cell_type": "code",
   "execution_count": 20,
   "id": "f7dcd353",
   "metadata": {},
   "outputs": [],
   "source": [
    "def activatetion_function(X, choice):\n",
    "    if (choice == 1):\n",
    "        return np.tanh(X)\n",
    "    if (choice == 2):\n",
    "        numerator = np.exp(X)\n",
    "        return numerator/np.sum(numerator, axis=1, keepdims=True)"
   ]
  },
  {
   "cell_type": "code",
   "execution_count": 21,
   "id": "2d9017d6",
   "metadata": {},
   "outputs": [],
   "source": [
    "learning_rate = 0.003"
   ]
  },
  {
   "cell_type": "code",
   "execution_count": 22,
   "id": "628c62cb",
   "metadata": {},
   "outputs": [],
   "source": [
    "batch = 1000"
   ]
  },
  {
   "cell_type": "code",
   "execution_count": 23,
   "id": "e56eef5a",
   "metadata": {},
   "outputs": [],
   "source": [
    "def cost_function(y, t):\n",
    "    return -(t*(np.log(y)) + (1 - t)*np.log(1-y))"
   ]
  },
  {
   "cell_type": "code",
   "execution_count": 24,
   "id": "4e39fb40",
   "metadata": {},
   "outputs": [],
   "source": [
    "def forward_propogation(data):\n",
    "    a0 = data\n",
    "    z1 = np.dot(a0, w1) + b1\n",
    "    a1 = activatetion_function(z1, 1)\n",
    "    z2 = np.dot(a1, w2) + b2\n",
    "    a2 = activatetion_function(z2, 2)\n",
    "    return a0, z1, a1, z2, a2"
   ]
  },
  {
   "cell_type": "code",
   "execution_count": 25,
   "id": "be997f15",
   "metadata": {},
   "outputs": [],
   "source": [
    "def accuracy(y, t, size):\n",
    "    pred_class = np.argmax(t, axis=1)\n",
    "    label_class = np.argmax(y, axis=1)\n",
    "    compare_label_pred = np.equal(pred_class, label_class)\n",
    "    numerator = np.sum(compare_label_pred)\n",
    "    return (numerator/size)*100"
   ]
  },
  {
   "cell_type": "code",
   "execution_count": 26,
   "id": "cd25727b",
   "metadata": {},
   "outputs": [],
   "source": [
    "epochs = 100"
   ]
  },
  {
   "cell_type": "code",
   "execution_count": 27,
   "id": "3c38ebb3",
   "metadata": {},
   "outputs": [
    {
     "name": "stdout",
     "output_type": "stream",
     "text": [
      "Training Cost:  2.5158754729312354\n",
      "Train Accuracy: 20.63125\n",
      "Training Cost:  3.932155024862735\n",
      "Train Accuracy: 19.9625\n",
      "Training Cost:  5.4059826436748315\n",
      "Train Accuracy: 20.075000000000003\n",
      "Training Cost:  12.216400900941059\n",
      "Train Accuracy: 20.13125\n",
      "Training Cost:  18.518190516534553\n",
      "Train Accuracy: 19.60625\n",
      "Training Cost:  14.731177789484603\n",
      "Train Accuracy: 19.693749999999998\n",
      "Training Cost:  10.80225300463552\n",
      "Train Accuracy: 20.150000000000002\n",
      "Training Cost:  6.478990164278091\n",
      "Train Accuracy: 20.11875\n",
      "Training Cost:  12.192339839284369\n",
      "Train Accuracy: 19.875\n",
      "Training Cost:  12.465398363397691\n",
      "Train Accuracy: 19.71875\n",
      "Training Cost:  12.045928156907896\n",
      "Train Accuracy: 20.2125\n",
      "Training Cost:  7.061592623757859\n",
      "Train Accuracy: 20.150000000000002\n",
      "Training Cost:  7.562442534474412\n",
      "Train Accuracy: 20.025000000000002\n",
      "Training Cost:  15.192156744126367\n",
      "Train Accuracy: 19.66875\n",
      "Training Cost:  16.73138155633933\n",
      "Train Accuracy: 19.787499999999998\n",
      "Training Cost:  12.866074685864426\n",
      "Train Accuracy: 20.4625\n",
      "Training Cost:  5.709483607015392\n",
      "Train Accuracy: 19.73125\n",
      "Training Cost:  5.110466543458922\n",
      "Train Accuracy: 19.825\n",
      "Training Cost:  11.043527137045327\n",
      "Train Accuracy: 19.925\n",
      "Training Cost:  13.57118119178445\n",
      "Train Accuracy: 19.7125\n",
      "Training Cost:  10.84479885850308\n",
      "Train Accuracy: 19.93125\n",
      "Training Cost:  7.070341891051572\n",
      "Train Accuracy: 19.6875\n",
      "Training Cost:  7.1414111230154305\n",
      "Train Accuracy: 19.9375\n",
      "Training Cost:  5.115562202184558\n",
      "Train Accuracy: 19.99375\n",
      "Training Cost:  13.521253313058974\n",
      "Train Accuracy: 20.0375\n",
      "Training Cost:  16.22637265098687\n",
      "Train Accuracy: 19.7625\n",
      "Training Cost:  12.163716311720842\n",
      "Train Accuracy: 19.63125\n",
      "Training Cost:  13.723785369401153\n",
      "Train Accuracy: 19.575\n",
      "Training Cost:  5.524290455290537\n",
      "Train Accuracy: 19.79375\n",
      "Training Cost:  11.755677646990366\n",
      "Train Accuracy: 20.05\n",
      "Training Cost:  14.64172201878063\n",
      "Train Accuracy: 19.70625\n",
      "Training Cost:  10.126353630522702\n",
      "Train Accuracy: 19.975\n",
      "Training Cost:  7.572266604414327\n",
      "Train Accuracy: 19.95625\n",
      "Training Cost:  13.616020621999139\n",
      "Train Accuracy: 20.0625\n",
      "Training Cost:  9.281549731945644\n",
      "Train Accuracy: 19.9125\n",
      "Training Cost:  8.367879250048667\n",
      "Train Accuracy: 20.275000000000002\n",
      "Training Cost:  6.316951515341471\n",
      "Train Accuracy: 19.9375\n",
      "Training Cost:  19.4475289412712\n",
      "Train Accuracy: 19.6125\n",
      "Training Cost:  10.306605344863662\n",
      "Train Accuracy: 19.925\n",
      "Training Cost:  11.374953185696484\n",
      "Train Accuracy: 19.55\n",
      "Training Cost:  10.078523585013249\n",
      "Train Accuracy: 19.925\n",
      "Training Cost:  13.550234115512659\n",
      "Train Accuracy: 20.13125\n",
      "Training Cost:  12.62885906968262\n",
      "Train Accuracy: 20.14375\n",
      "Training Cost:  12.196368934364834\n",
      "Train Accuracy: 20.03125\n",
      "Training Cost:  14.51089131556894\n",
      "Train Accuracy: 20.05\n",
      "Training Cost:  10.914605383162474\n",
      "Train Accuracy: 19.55625\n",
      "Training Cost:  13.078645070156739\n",
      "Train Accuracy: 20.4125\n",
      "Training Cost:  10.886417421439049\n",
      "Train Accuracy: 19.568749999999998\n",
      "Training Cost:  12.042655915837061\n",
      "Train Accuracy: 19.8\n",
      "Training Cost:  6.273164110751532\n",
      "Train Accuracy: 19.8375\n",
      "Training Cost:  10.836252833060641\n",
      "Train Accuracy: 19.6\n",
      "Training Cost:  8.317261365533913\n",
      "Train Accuracy: 19.9625\n",
      "Training Cost:  11.741119714242767\n",
      "Train Accuracy: 19.85625\n",
      "Training Cost:  6.482798478097115\n",
      "Train Accuracy: 19.5625\n",
      "Training Cost:  12.098885459001439\n",
      "Train Accuracy: 19.96875\n",
      "Training Cost:  13.082208860018833\n",
      "Train Accuracy: 20.1625\n",
      "Training Cost:  9.96877994570758\n",
      "Train Accuracy: 19.86875\n",
      "Training Cost:  12.070611487814665\n",
      "Train Accuracy: 19.7375\n",
      "Training Cost:  12.81737358745661\n",
      "Train Accuracy: 20.39375\n",
      "Training Cost:  8.833239033065995\n",
      "Train Accuracy: 19.900000000000002\n",
      "Training Cost:  5.267695108932574\n",
      "Train Accuracy: 20.0625\n",
      "Training Cost:  11.356186264437095\n",
      "Train Accuracy: 19.84375\n",
      "Training Cost:  13.864688822233129\n",
      "Train Accuracy: 19.7125\n",
      "Training Cost:  10.080325950215622\n",
      "Train Accuracy: 19.693749999999998\n",
      "Training Cost:  7.052119603985058\n",
      "Train Accuracy: 19.643749999999997\n",
      "Training Cost:  11.875247649469033\n",
      "Train Accuracy: 19.7\n",
      "Training Cost:  22.407131367579186\n",
      "Train Accuracy: 20.424999999999997\n",
      "Training Cost:  7.966760022377599\n",
      "Train Accuracy: 19.8\n",
      "Training Cost:  9.497328048470484\n",
      "Train Accuracy: 20.0\n",
      "Training Cost:  8.43031272891525\n",
      "Train Accuracy: 20.0375\n",
      "Training Cost:  5.910894205304035\n",
      "Train Accuracy: 19.99375\n",
      "Training Cost:  5.828438889085358\n",
      "Train Accuracy: 20.181250000000002\n",
      "Training Cost:  12.448465218483527\n",
      "Train Accuracy: 20.2875\n",
      "Training Cost:  9.527584825288969\n",
      "Train Accuracy: 19.75\n",
      "Training Cost:  12.900654023238578\n",
      "Train Accuracy: 19.75\n",
      "Training Cost:  6.008667231696212\n",
      "Train Accuracy: 20.068749999999998\n",
      "Training Cost:  14.133122046772376\n",
      "Train Accuracy: 19.98125\n",
      "Training Cost:  10.41440648283109\n",
      "Train Accuracy: 19.84375\n",
      "Training Cost:  10.187701388212366\n",
      "Train Accuracy: 20.13125\n",
      "Training Cost:  8.884879870090941\n",
      "Train Accuracy: 20.1375\n",
      "Training Cost:  13.73738548025335\n",
      "Train Accuracy: 19.8375\n",
      "Training Cost:  10.246987994719651\n",
      "Train Accuracy: 19.950000000000003\n",
      "Training Cost:  16.23373732701701\n",
      "Train Accuracy: 20.025000000000002\n",
      "Training Cost:  9.922250471836314\n",
      "Train Accuracy: 19.95625\n",
      "Training Cost:  12.500489292970085\n",
      "Train Accuracy: 19.7\n",
      "Training Cost:  8.001054578408146\n",
      "Train Accuracy: 20.26875\n",
      "Training Cost:  11.572327805378412\n",
      "Train Accuracy: 19.90625\n",
      "Training Cost:  4.742623195801374\n",
      "Train Accuracy: 20.14375\n",
      "Training Cost:  9.336300892575238\n",
      "Train Accuracy: 20.025000000000002\n",
      "Training Cost:  16.11303078466389\n",
      "Train Accuracy: 20.46875\n",
      "Training Cost:  12.43086115983634\n",
      "Train Accuracy: 19.85625\n",
      "Training Cost:  12.420287505946673\n",
      "Train Accuracy: 20.0375\n",
      "Training Cost:  7.005724437446344\n",
      "Train Accuracy: 19.53125\n",
      "Training Cost:  14.447593319221609\n",
      "Train Accuracy: 19.8875\n",
      "Training Cost:  14.216580522340685\n",
      "Train Accuracy: 20.15625\n",
      "Training Cost:  13.481218178536631\n",
      "Train Accuracy: 19.7375\n",
      "Training Cost:  11.645131467364598\n",
      "Train Accuracy: 19.6125\n",
      "Training Cost:  8.949739262646311\n",
      "Train Accuracy: 19.9125\n",
      "Training Cost:  18.04925012429119\n",
      "Train Accuracy: 20.025000000000002\n",
      "Training Cost:  9.599252927927584\n",
      "Train Accuracy: 19.8375\n"
     ]
    }
   ],
   "source": [
    "for epoch in range(epochs):\n",
    "    for iteration in range(int(len(train_dataset)/batch)):\n",
    "        a0, z1, a1, z2, a2 = forward_propogation(train_dataset[iteration*batch:(iteration+1)*batch, :])\n",
    "        y = a2\n",
    "        label_batch = train_label[iteration*batch:(iteration+1)*batch, :]\n",
    "        \n",
    "        del2=(y-label_batch)\n",
    "        del1=np.dot(del2,w2.T)*(a1-pow(a1,2))\n",
    "        dcdw2=np.dot(a1.T,del2)\n",
    "        dcdw1=np.dot(a0.T,del1)\n",
    "        dcdb1=np.sum(del1,axis=0)\n",
    "        dcdb2=np.sum(del2,axis=0)\n",
    "        \n",
    "        w1 = w1 - learning_rate*dcdw1\n",
    "        w2 = w2 - learning_rate*dcdw2\n",
    "        b1 = b1 - learning_rate*dcdb1\n",
    "        b2 = b2 - learning_rate*dcdb2\n",
    "        \n",
    "    a0, z1, a1, z2, a2 = forward_propogation(train_dataset)\n",
    "#     if epoch>9800:\n",
    "    print('Training Cost: ', np.sum(cost_function(a2, train_label))/np.shape(train_dataset)[0])\n",
    "    print('Train Accuracy:', accuracy(train_label, a2, len(train_label)))"
   ]
  },
  {
   "cell_type": "code",
   "execution_count": 28,
   "id": "3c6783fb",
   "metadata": {},
   "outputs": [],
   "source": [
    "# np.sum?"
   ]
  },
  {
   "cell_type": "code",
   "execution_count": null,
   "id": "7b297e5e",
   "metadata": {},
   "outputs": [],
   "source": []
  }
 ],
 "metadata": {
  "kernelspec": {
   "display_name": "Python 3 (ipykernel)",
   "language": "python",
   "name": "python3"
  },
  "language_info": {
   "codemirror_mode": {
    "name": "ipython",
    "version": 3
   },
   "file_extension": ".py",
   "mimetype": "text/x-python",
   "name": "python",
   "nbconvert_exporter": "python",
   "pygments_lexer": "ipython3",
   "version": "3.8.10"
  }
 },
 "nbformat": 4,
 "nbformat_minor": 5
}
