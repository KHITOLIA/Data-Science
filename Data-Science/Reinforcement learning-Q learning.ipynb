{
 "cells": [
  {
   "cell_type": "code",
   "execution_count": 13,
   "id": "406ad0d2",
   "metadata": {
    "scrolled": true
   },
   "outputs": [],
   "source": [
    "# !pip install gym"
   ]
  },
  {
   "cell_type": "code",
   "execution_count": 14,
   "id": "47a8c277",
   "metadata": {},
   "outputs": [],
   "source": [
    "import gym"
   ]
  },
  {
   "cell_type": "code",
   "execution_count": 32,
   "id": "e31f6700",
   "metadata": {},
   "outputs": [],
   "source": [
    "env = gym.make('FrozenLake-v1')"
   ]
  },
  {
   "cell_type": "code",
   "execution_count": 33,
   "id": "242ef7a7",
   "metadata": {},
   "outputs": [
    {
     "name": "stdout",
     "output_type": "stream",
     "text": [
      "16\n",
      "4\n"
     ]
    }
   ],
   "source": [
    "print(env.observation_space.n)\n",
    "print(env.action_space.n)"
   ]
  },
  {
   "cell_type": "code",
   "execution_count": 17,
   "id": "96433649",
   "metadata": {},
   "outputs": [
    {
     "data": {
      "text/plain": [
       "(0, {'prob': 1})"
      ]
     },
     "execution_count": 17,
     "metadata": {},
     "output_type": "execute_result"
    }
   ],
   "source": [
    "env.reset()"
   ]
  },
  {
   "cell_type": "code",
   "execution_count": 18,
   "id": "5de1df36",
   "metadata": {},
   "outputs": [],
   "source": [
    "action = env.action_space.sample()  #get random action"
   ]
  },
  {
   "cell_type": "code",
   "execution_count": 28,
   "id": "cebaa498",
   "metadata": {},
   "outputs": [],
   "source": [
    "info = env.step(action)  #take action and notice it returns information about the action"
   ]
  },
  {
   "cell_type": "code",
   "execution_count": 29,
   "id": "24ce4e7e",
   "metadata": {},
   "outputs": [
    {
     "data": {
      "text/plain": [
       "(5, 0, True, False, {'prob': 1.0})"
      ]
     },
     "execution_count": 29,
     "metadata": {},
     "output_type": "execute_result"
    }
   ],
   "source": [
    "info"
   ]
  },
  {
   "cell_type": "code",
   "execution_count": 30,
   "id": "25084a09",
   "metadata": {},
   "outputs": [],
   "source": [
    "env.render()  #render the GUI for the environment "
   ]
  },
  {
   "cell_type": "markdown",
   "id": "481a941b",
   "metadata": {},
   "source": [
    "# Frozen Lake Environment"
   ]
  },
  {
   "cell_type": "code",
   "execution_count": 9,
   "id": "7b2b46ca",
   "metadata": {},
   "outputs": [],
   "source": [
    "# Building the Q-Table\n",
    "import gym\n",
    "import numpy as np\n",
    "import time\n",
    "\n",
    "env = gym.make('FrozenLake-v1')\n",
    "states = env.observation_space.n\n",
    "actions = env.action_space.n"
   ]
  },
  {
   "cell_type": "code",
   "execution_count": 10,
   "id": "048e6d04",
   "metadata": {},
   "outputs": [
    {
     "data": {
      "text/plain": [
       "array([[0., 0., 0., 0.],\n",
       "       [0., 0., 0., 0.],\n",
       "       [0., 0., 0., 0.],\n",
       "       [0., 0., 0., 0.],\n",
       "       [0., 0., 0., 0.],\n",
       "       [0., 0., 0., 0.],\n",
       "       [0., 0., 0., 0.],\n",
       "       [0., 0., 0., 0.],\n",
       "       [0., 0., 0., 0.],\n",
       "       [0., 0., 0., 0.],\n",
       "       [0., 0., 0., 0.],\n",
       "       [0., 0., 0., 0.],\n",
       "       [0., 0., 0., 0.],\n",
       "       [0., 0., 0., 0.],\n",
       "       [0., 0., 0., 0.],\n",
       "       [0., 0., 0., 0.]])"
      ]
     },
     "execution_count": 10,
     "metadata": {},
     "output_type": "execute_result"
    }
   ],
   "source": [
    "Q = np.zeros((states, actions))  # create a matricx will all 0 values\n",
    "Q"
   ]
  },
  {
   "cell_type": "markdown",
   "id": "c3405bb2",
   "metadata": {},
   "source": [
    "# Constants"
   ]
  },
  {
   "cell_type": "code",
   "execution_count": 11,
   "id": "414ab34b",
   "metadata": {},
   "outputs": [],
   "source": [
    "episode = 10000  #how many times to run the environment fromthe begining\n",
    "max_steps = 100   #max number of step allowed for each run of environment\n",
    "\n",
    "\n",
    "learning_rate = 0.81\n",
    "\n",
    "gamma = 0.96\n"
   ]
  },
  {
   "cell_type": "markdown",
   "id": "e5b1913c",
   "metadata": {},
   "source": [
    "# Picking an action \n",
    "1. randomly picking a valid action\n",
    "2. using the current Q-table to find the best action"
   ]
  },
  {
   "cell_type": "code",
   "execution_count": 12,
   "id": "e972d1ce",
   "metadata": {},
   "outputs": [],
   "source": [
    "epsilon = 0.9  #start with 90% chance of picking a random state\n",
    "\n",
    "#code to pick action\n",
    "\n",
    "if np.random.uniform(0, 1) < epsilon:\n",
    "    action = env.action_space.sample()\n",
    "else:\n",
    "    action = np.argmax(Q[state, :])  #use Q-table to pcik best action"
   ]
  },
  {
   "cell_type": "markdown",
   "id": "4a68ed51",
   "metadata": {},
   "source": [
    "# Updating Q values\n",
    "\n",
    "Q[state, action] = Q[state, action] + a*(reward + gamma*max(Q[new_state,:] - Q[state, action])\n",
    "\n",
    "1. a stands for the Learning Rate\n",
    "2. gamma for the Discount Factor"
   ]
  },
  {
   "cell_type": "code",
   "execution_count": 37,
   "id": "08fa1746",
   "metadata": {},
   "outputs": [],
   "source": [
    "import numpy as np\n",
    "import gym\n",
    "\n",
    "# Initialize the FrozenLake-v1 environment\n",
    "env = gym.make('FrozenLake-v1')\n",
    "\n",
    "# Q-learning parameters\n",
    "learning_rate = 0.8\n",
    "discount_factor = 0.95\n",
    "exploration_prob = 0.2\n",
    "num_episodes = 5000\n",
    "\n",
    "# Initialize Q-table with zeros\n",
    "state_space_size = env.observation_space.n\n",
    "action_space_size = env.action_space.n\n",
    "Q = np.zeros((state_space_size, action_space_size))\n",
    "\n",
    "# Q-learning algorithm\n",
    "for episode in range(num_episodes):\n",
    "    state = env.reset()\n",
    "    done = False\n",
    "\n",
    "    while not done:\n",
    "        # Exploration-exploitation trade-off\n",
    "        if np.random.rand() < exploration_prob:\n",
    "            action = env.action_space.sample()  # Explore\n",
    "        else:\n",
    "            action = np.argmax(Q[state, :])  # Exploit\n",
    "\n",
    "        # Take the chosen action and observe the new state and reward\n",
    "        next_state, reward, done, _ = env.step(action)\n",
    "\n",
    "        # Update Q-value using the Q-learning update rule\n",
    "        Q[state, action] = (1 - learning_rate) * Q[state, action] + \\\n",
    "                           learning_rate * (reward + discount_factor * np.max(Q[next_state, :]))\n",
    "\n",
    "        # Move to the next state\n",
    "        state = next_state\n",
    "\n",
    "# Print the learned Q-values\n",
    "print(\"Learned Q-values:\")\n",
    "print(Q)\n"
   ]
  },
  {
   "cell_type": "code",
   "execution_count": null,
   "id": "52ab461b",
   "metadata": {},
   "outputs": [],
   "source": []
  }
 ],
 "metadata": {
  "kernelspec": {
   "display_name": "Python 3 (ipykernel)",
   "language": "python",
   "name": "python3"
  },
  "language_info": {
   "codemirror_mode": {
    "name": "ipython",
    "version": 3
   },
   "file_extension": ".py",
   "mimetype": "text/x-python",
   "name": "python",
   "nbconvert_exporter": "python",
   "pygments_lexer": "ipython3",
   "version": "3.11.3"
  }
 },
 "nbformat": 4,
 "nbformat_minor": 5
}
