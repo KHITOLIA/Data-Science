{
 "cells": [
  {
   "cell_type": "code",
   "execution_count": 1,
   "id": "adbb14a0",
   "metadata": {},
   "outputs": [],
   "source": [
    "def temp(name):\n",
    "    print('Name is', name)\n",
    "#     return name"
   ]
  },
  {
   "cell_type": "code",
   "execution_count": 2,
   "id": "f5578c50",
   "metadata": {},
   "outputs": [
    {
     "name": "stdout",
     "output_type": "stream",
     "text": [
      "Name is aamir\n"
     ]
    }
   ],
   "source": [
    "temp('aamir')"
   ]
  },
  {
   "cell_type": "code",
   "execution_count": 3,
   "id": "db57f35d",
   "metadata": {},
   "outputs": [],
   "source": [
    "def temp(name):\n",
    "    print('Name is also', name)\n",
    "#     return name"
   ]
  },
  {
   "cell_type": "code",
   "execution_count": 4,
   "id": "80036c57",
   "metadata": {},
   "outputs": [
    {
     "name": "stdout",
     "output_type": "stream",
     "text": [
      "Name is also aamir\n"
     ]
    }
   ],
   "source": [
    "temp('aamir')"
   ]
  },
  {
   "cell_type": "code",
   "execution_count": 5,
   "id": "08a20cd0",
   "metadata": {},
   "outputs": [],
   "source": [
    "a = ['4', 22, 'abhijeet', 9.99]"
   ]
  },
  {
   "cell_type": "code",
   "execution_count": 6,
   "id": "c80523cd",
   "metadata": {},
   "outputs": [
    {
     "name": "stdout",
     "output_type": "stream",
     "text": [
      "<class 'str'>\n"
     ]
    }
   ],
   "source": [
    "print(type(a[2]))"
   ]
  },
  {
   "cell_type": "code",
   "execution_count": 7,
   "id": "2dc845bc",
   "metadata": {},
   "outputs": [],
   "source": [
    "def temp(a):\n",
    "    print(a)"
   ]
  },
  {
   "cell_type": "code",
   "execution_count": 8,
   "id": "88d0fc6b",
   "metadata": {},
   "outputs": [
    {
     "name": "stdout",
     "output_type": "stream",
     "text": [
      "9\n",
      "True\n"
     ]
    }
   ],
   "source": [
    "temp(9)\n",
    "print(isinstance(temp, object))"
   ]
  },
  {
   "cell_type": "code",
   "execution_count": 9,
   "id": "a8477125",
   "metadata": {},
   "outputs": [
    {
     "name": "stdout",
     "output_type": "stream",
     "text": [
      "False\n",
      "True True\n"
     ]
    }
   ],
   "source": [
    "name = 'abhijeet'\n",
    "age = 22\n",
    "print(age == 29)\n",
    "if type(age) == int:\n",
    "    print(\"True True\")"
   ]
  },
  {
   "cell_type": "code",
   "execution_count": 10,
   "id": "f5d4e501",
   "metadata": {},
   "outputs": [
    {
     "data": {
      "text/plain": [
       "'0x7fe9011a28b0'"
      ]
     },
     "execution_count": 10,
     "metadata": {},
     "output_type": "execute_result"
    }
   ],
   "source": [
    "hex(id(temp))"
   ]
  },
  {
   "cell_type": "code",
   "execution_count": 11,
   "id": "fdc6714b",
   "metadata": {},
   "outputs": [
    {
     "name": "stdout",
     "output_type": "stream",
     "text": [
      "<class 'list'>\n",
      "True\n"
     ]
    }
   ],
   "source": [
    "print(type(a))\n",
    "print(isinstance(print, object))"
   ]
  },
  {
   "cell_type": "code",
   "execution_count": 12,
   "id": "a3d741d6",
   "metadata": {},
   "outputs": [],
   "source": [
    "class Student:\n",
    "    mentor = 'Abhijeet'\n",
    "    age = 22"
   ]
  },
  {
   "cell_type": "code",
   "execution_count": 13,
   "id": "31bf2437",
   "metadata": {},
   "outputs": [],
   "source": [
    "a = Student()"
   ]
  },
  {
   "cell_type": "code",
   "execution_count": 14,
   "id": "493abb21",
   "metadata": {},
   "outputs": [],
   "source": [
    "b = Student()"
   ]
  },
  {
   "cell_type": "code",
   "execution_count": 15,
   "id": "d08f2b3d",
   "metadata": {},
   "outputs": [],
   "source": [
    "c = Student()"
   ]
  },
  {
   "cell_type": "code",
   "execution_count": 16,
   "id": "1cdf7169",
   "metadata": {},
   "outputs": [
    {
     "name": "stdout",
     "output_type": "stream",
     "text": [
      "Abhijeet Abhijeet Abhijeet 22 22 22\n"
     ]
    }
   ],
   "source": [
    "print(c.mentor, b.mentor, a.mentor, a.age, b.age, c.age)"
   ]
  },
  {
   "cell_type": "code",
   "execution_count": 17,
   "id": "5aafd69c",
   "metadata": {},
   "outputs": [],
   "source": [
    "class Person:\n",
    "    alive = True\n",
    "    age = 22\n",
    "    name = None\n",
    "    \n",
    "    def hello(self):\n",
    "        print(\"Hello I am:\", self.alive, self.name, self.age)"
   ]
  },
  {
   "cell_type": "code",
   "execution_count": 18,
   "id": "00731265",
   "metadata": {},
   "outputs": [],
   "source": [
    "p = Person()"
   ]
  },
  {
   "cell_type": "code",
   "execution_count": 19,
   "id": "672603e7",
   "metadata": {},
   "outputs": [
    {
     "name": "stdout",
     "output_type": "stream",
     "text": [
      "<__main__.Person object at 0x7fe9011be0a0>\n"
     ]
    }
   ],
   "source": [
    "print(p)"
   ]
  },
  {
   "cell_type": "code",
   "execution_count": 20,
   "id": "77d9a171",
   "metadata": {},
   "outputs": [
    {
     "name": "stdout",
     "output_type": "stream",
     "text": [
      "Hello I am: True None 22\n"
     ]
    }
   ],
   "source": [
    "p.hello()"
   ]
  },
  {
   "cell_type": "code",
   "execution_count": 21,
   "id": "75f4ceeb",
   "metadata": {},
   "outputs": [],
   "source": [
    "class Person:\n",
    "    alive = True\n",
    "    age = 22\n",
    "    name = None\n",
    "    \n",
    "    def hello(self, name_person, age_person, alive_person = True):\n",
    "        self.name = name_person\n",
    "        self.age = age_person\n",
    "        self.alive = alive_person\n",
    "        print(\"Hello I am:\", self.alive, self.name, self.age)"
   ]
  },
  {
   "cell_type": "code",
   "execution_count": 22,
   "id": "5c039999",
   "metadata": {},
   "outputs": [],
   "source": [
    "q = Person()"
   ]
  },
  {
   "cell_type": "code",
   "execution_count": 23,
   "id": "f81d24c6",
   "metadata": {},
   "outputs": [
    {
     "name": "stdout",
     "output_type": "stream",
     "text": [
      "<class '__main__.Person'>\n"
     ]
    }
   ],
   "source": [
    "print(type(q))"
   ]
  },
  {
   "cell_type": "code",
   "execution_count": 24,
   "id": "87559272",
   "metadata": {},
   "outputs": [
    {
     "name": "stdout",
     "output_type": "stream",
     "text": [
      "Hello I am: True abhijeet 30\n"
     ]
    }
   ],
   "source": [
    "q.hello('abhijeet', 30)"
   ]
  },
  {
   "cell_type": "code",
   "execution_count": 25,
   "id": "48d2388b",
   "metadata": {},
   "outputs": [
    {
     "data": {
      "text/plain": [
       "'abhijeet'"
      ]
     },
     "execution_count": 25,
     "metadata": {},
     "output_type": "execute_result"
    }
   ],
   "source": [
    "q.name"
   ]
  },
  {
   "cell_type": "code",
   "execution_count": 26,
   "id": "24060146",
   "metadata": {},
   "outputs": [
    {
     "data": {
      "text/plain": [
       "30"
      ]
     },
     "execution_count": 26,
     "metadata": {},
     "output_type": "execute_result"
    }
   ],
   "source": [
    "q.age"
   ]
  },
  {
   "cell_type": "code",
   "execution_count": 27,
   "id": "5b5015ea",
   "metadata": {},
   "outputs": [],
   "source": [
    "p = Person()"
   ]
  },
  {
   "cell_type": "code",
   "execution_count": 28,
   "id": "f4329a80",
   "metadata": {},
   "outputs": [
    {
     "name": "stdout",
     "output_type": "stream",
     "text": [
      "None\n"
     ]
    }
   ],
   "source": [
    "print(p.name)"
   ]
  },
  {
   "cell_type": "code",
   "execution_count": 29,
   "id": "242006c1",
   "metadata": {},
   "outputs": [
    {
     "name": "stdout",
     "output_type": "stream",
     "text": [
      "Hello I am: False samar 99\n",
      "samar 99 False\n"
     ]
    }
   ],
   "source": [
    "p.hello('samar', 99, False)\n",
    "print(p.name, p.age, p.alive)"
   ]
  },
  {
   "cell_type": "code",
   "execution_count": 30,
   "id": "0e691422",
   "metadata": {},
   "outputs": [],
   "source": [
    "# Dunders/ Magic Function"
   ]
  },
  {
   "cell_type": "code",
   "execution_count": 31,
   "id": "69c06248",
   "metadata": {},
   "outputs": [],
   "source": [
    "class Person:\n",
    "    living = True\n",
    "    \n",
    "    def __init__(self, person_name, person_age, person_height):\n",
    "        self.name = person_name\n",
    "        self.age = person_age\n",
    "        self.height = person_height\n",
    "        print(\"Chal gya\")\n",
    "        \n",
    "    def hello(self):\n",
    "        print(self.name, self.age, self.height)"
   ]
  },
  {
   "cell_type": "code",
   "execution_count": 32,
   "id": "a2dfb6df",
   "metadata": {},
   "outputs": [
    {
     "name": "stdout",
     "output_type": "stream",
     "text": [
      "Chal gya\n",
      "NEXT LINE\n",
      "Chal gya\n"
     ]
    }
   ],
   "source": [
    "person1 = Person('Abhijeet', 22, 5.10)\n",
    "print(\"NEXT LINE\")\n",
    "person2 = Person('Siddharth', 19, 6)"
   ]
  },
  {
   "cell_type": "code",
   "execution_count": 33,
   "id": "8271e946",
   "metadata": {},
   "outputs": [
    {
     "name": "stdout",
     "output_type": "stream",
     "text": [
      "Abhijeet 22 5.1\n",
      "Siddharth 19 6\n"
     ]
    }
   ],
   "source": [
    "print(person1.name, person1.age, person1.height)\n",
    "print(person2.name, person2.age, person2.height)"
   ]
  },
  {
   "cell_type": "code",
   "execution_count": 34,
   "id": "f040c17c",
   "metadata": {},
   "outputs": [
    {
     "name": "stdout",
     "output_type": "stream",
     "text": [
      "True True\n"
     ]
    }
   ],
   "source": [
    "print(person1.living, person2.living)"
   ]
  },
  {
   "cell_type": "code",
   "execution_count": null,
   "id": "ce66855c",
   "metadata": {},
   "outputs": [],
   "source": []
  },
  {
   "cell_type": "code",
   "execution_count": 35,
   "id": "ce5cf43d",
   "metadata": {},
   "outputs": [
    {
     "name": "stdout",
     "output_type": "stream",
     "text": [
      "namea\n",
      "RollNOa\n",
      "agea\n",
      "Abhijeet Bhaiya a a a\n"
     ]
    }
   ],
   "source": [
    "class Student:\n",
    "    mentor = \"Abhijeet Bhaiya\"\n",
    "    def __init__(self, name, rollno, age):\n",
    "        self.name = name\n",
    "        self.rollno = rollno\n",
    "        self.age = age\n",
    "s1 = Student(input(\"name\"), input(\"RollNO\"), input(\"age\"))\n",
    "print(s1.mentor, s1.name, s1.rollno, s1.age)"
   ]
  },
  {
   "cell_type": "code",
   "execution_count": 36,
   "id": "0720379b",
   "metadata": {},
   "outputs": [],
   "source": [
    "class Student:\n",
    "    mentor = 'Abhijeet'\n",
    "    \n",
    "    def __init__(self):\n",
    "        pass\n",
    "    \n",
    "    def details(self, name, roll, age):\n",
    "        self.name = name\n",
    "        self.age = age\n",
    "        self.roll = roll"
   ]
  },
  {
   "cell_type": "code",
   "execution_count": 37,
   "id": "ee8c309a",
   "metadata": {},
   "outputs": [
    {
     "name": "stdout",
     "output_type": "stream",
     "text": [
      "Name?a\n",
      "Rolla\n",
      "Agea\n",
      "Name?a\n",
      "Rolla\n",
      "Agea\n",
      "Name?a\n",
      "Rolla\n",
      "Agea\n"
     ]
    }
   ],
   "source": [
    "a = Student()\n",
    "b = Student()\n",
    "c = Student()\n",
    "\n",
    "for i in range(3):\n",
    "    name = input(\"Name?\")\n",
    "    roll = input(\"Roll\")\n",
    "    age = input(\"Age\")\n",
    "    if i == 0:\n",
    "        a.details(name, roll, age)\n",
    "    if i == 1:\n",
    "        b.details(name, roll, age)\n",
    "    if i == 2:\n",
    "        c.details(name, roll, age)"
   ]
  },
  {
   "cell_type": "code",
   "execution_count": 38,
   "id": "9f8c4a34",
   "metadata": {},
   "outputs": [
    {
     "name": "stdout",
     "output_type": "stream",
     "text": [
      "a a a\n"
     ]
    }
   ],
   "source": [
    "print(a.name, b.name, c.name)"
   ]
  },
  {
   "cell_type": "code",
   "execution_count": 41,
   "id": "dac1e66f",
   "metadata": {},
   "outputs": [],
   "source": [
    "class Student:\n",
    "    mentor = 'Abhijeet'\n",
    "    \n",
    "    def __init__(self, name, age, roll):\n",
    "        self.name = name\n",
    "        self.age = age\n",
    "        self.roll = roll"
   ]
  },
  {
   "cell_type": "code",
   "execution_count": 42,
   "id": "acf5263c",
   "metadata": {},
   "outputs": [
    {
     "name": "stdout",
     "output_type": "stream",
     "text": [
      "Namea\n",
      "Age2\n",
      "roll2\n"
     ]
    }
   ],
   "source": [
    "a = Student(input('Name'), int(input('Age')), int(input('roll')))"
   ]
  },
  {
   "cell_type": "code",
   "execution_count": 43,
   "id": "118ebce2",
   "metadata": {},
   "outputs": [
    {
     "name": "stdout",
     "output_type": "stream",
     "text": [
      "Name\n",
      "Age1\n",
      "roll3\n"
     ]
    }
   ],
   "source": [
    "b = Student(input('Name'), int(input('Age')), int(input('roll')))"
   ]
  },
  {
   "cell_type": "code",
   "execution_count": 44,
   "id": "b59dc779",
   "metadata": {},
   "outputs": [
    {
     "name": "stdout",
     "output_type": "stream",
     "text": [
      "a  2 1 2 3\n"
     ]
    }
   ],
   "source": [
    "print(a.name, b.name, a.age, b.age, a.roll, b.roll)"
   ]
  },
  {
   "cell_type": "code",
   "execution_count": 45,
   "id": "46391540",
   "metadata": {},
   "outputs": [
    {
     "name": "stdout",
     "output_type": "stream",
     "text": [
      "Abhijeet Abhijeet 140638722505712 140638722505712 140638722505712\n"
     ]
    }
   ],
   "source": [
    "print(a.mentor, b.mentor, id(a.mentor), id(b.mentor), id(Student('a', 'b', 'c').mentor))"
   ]
  },
  {
   "cell_type": "code",
   "execution_count": 46,
   "id": "15802ae5",
   "metadata": {},
   "outputs": [
    {
     "name": "stdout",
     "output_type": "stream",
     "text": [
      "140638659077552 140638656189168\n"
     ]
    }
   ],
   "source": [
    "print(id(a.name), id(b.name))"
   ]
  },
  {
   "cell_type": "code",
   "execution_count": 47,
   "id": "3fd9e5e9",
   "metadata": {},
   "outputs": [
    {
     "data": {
      "text/plain": [
       "<__main__.Student at 0x7fe90157c370>"
      ]
     },
     "execution_count": 47,
     "metadata": {},
     "output_type": "execute_result"
    }
   ],
   "source": [
    "a"
   ]
  },
  {
   "cell_type": "code",
   "execution_count": 48,
   "id": "b8a06543",
   "metadata": {},
   "outputs": [
    {
     "name": "stdout",
     "output_type": "stream",
     "text": [
      "1  \n",
      "2 3 2  \n",
      "3 4 5 4 3  \n",
      "4 5 6 7 6 5 4  \n",
      "5 6 7 8 9 8 7 6 5  \n"
     ]
    }
   ],
   "source": [
    "for i in range(1,6):\n",
    "    k = i\n",
    "    for j in range(1,i+1):\n",
    "        print(k, end=\" \")\n",
    "        k = k+1\n",
    "    k = k-2\n",
    "    for q in range(1,i):\n",
    "        print(k, end = \" \")\n",
    "        k = k-1\n",
    "    \n",
    "    print(\" \")"
   ]
  },
  {
   "cell_type": "code",
   "execution_count": 49,
   "id": "af0cb91d",
   "metadata": {
    "scrolled": true
   },
   "outputs": [
    {
     "name": "stdout",
     "output_type": "stream",
     "text": [
      "1\r\n",
      "232\r\n",
      "34543\r\n",
      "4567654\r\n",
      "567898765\r\n"
     ]
    }
   ],
   "source": [
    "for i in range(5):\n",
    "    counter = i+1\n",
    "    counterneg= 2*i\n",
    "    for j in range(2*i+1):\n",
    "        if counter<=2*i+1:\n",
    "            print(counter,end = '')\n",
    "            counter+=1\n",
    "        else:\n",
    "            print(counterneg,end = '')\n",
    "            counterneg-=1\n",
    "            \n",
    "    print(\"\\r\")"
   ]
  },
  {
   "cell_type": "code",
   "execution_count": 50,
   "id": "ee0f34f7",
   "metadata": {},
   "outputs": [
    {
     "name": "stdout",
     "output_type": "stream",
     "text": [
      "1\n",
      "231\n",
      "34521\n",
      "4543321\n",
      "543214321\n"
     ]
    }
   ],
   "source": [
    "n = 5\n",
    "for i in range(1, n+1):\n",
    "    for j in range(i, i+i):\n",
    "        if j <= n:\n",
    "            print(j, end='')\n",
    "        else:\n",
    "            print(2*n-j, end='')\n",
    "    for j in range(i-1, 0, -1):\n",
    "        if j <= n:\n",
    "            print(j, end='')\n",
    "        else:\n",
    "            print(2*n-j, end='')\n",
    "    print()"
   ]
  },
  {
   "cell_type": "code",
   "execution_count": 70,
   "id": "d104ea5c",
   "metadata": {},
   "outputs": [],
   "source": [
    "class Student:\n",
    "    \n",
    "    mentor = 'Abhijeet'\n",
    "    mentor1 = 'Raghav'\n",
    "    age = 22\n",
    "    name = 'xyz'\n",
    "    \n",
    "    def hello(self):\n",
    "        print(self.name, self.age, self.mentor)"
   ]
  },
  {
   "cell_type": "code",
   "execution_count": 71,
   "id": "e3af6975",
   "metadata": {},
   "outputs": [],
   "source": [
    "stu = Student()"
   ]
  },
  {
   "cell_type": "code",
   "execution_count": 72,
   "id": "fbc3cedb",
   "metadata": {},
   "outputs": [
    {
     "data": {
      "text/plain": [
       "'Raghav'"
      ]
     },
     "execution_count": 72,
     "metadata": {},
     "output_type": "execute_result"
    }
   ],
   "source": [
    "stu.mentor1"
   ]
  },
  {
   "cell_type": "code",
   "execution_count": 73,
   "id": "0dc71462",
   "metadata": {},
   "outputs": [
    {
     "data": {
      "text/plain": [
       "'xyz'"
      ]
     },
     "execution_count": 73,
     "metadata": {},
     "output_type": "execute_result"
    }
   ],
   "source": [
    "stu.name"
   ]
  },
  {
   "cell_type": "code",
   "execution_count": 74,
   "id": "459dc223",
   "metadata": {},
   "outputs": [
    {
     "data": {
      "text/plain": [
       "'xyz'"
      ]
     },
     "execution_count": 74,
     "metadata": {},
     "output_type": "execute_result"
    }
   ],
   "source": [
    "Student().name"
   ]
  },
  {
   "cell_type": "code",
   "execution_count": 75,
   "id": "963a45c7",
   "metadata": {},
   "outputs": [
    {
     "name": "stdout",
     "output_type": "stream",
     "text": [
      "xyz 22 Abhijeet\n"
     ]
    }
   ],
   "source": [
    "Student().hello()"
   ]
  },
  {
   "cell_type": "code",
   "execution_count": 76,
   "id": "3b675ac7",
   "metadata": {},
   "outputs": [
    {
     "name": "stdout",
     "output_type": "stream",
     "text": [
      "xyz 22 Abhijeet\n"
     ]
    }
   ],
   "source": [
    "stu.hello()"
   ]
  },
  {
   "cell_type": "code",
   "execution_count": 77,
   "id": "5fac9c29",
   "metadata": {},
   "outputs": [],
   "source": [
    "class Student:\n",
    "    \n",
    "    mentor = 'Abhijeet'\n",
    "    mentor1 = 'Raghav'\n",
    "    age = None\n",
    "    name = None\n",
    "    \n",
    "    def hello(self, age, name):\n",
    "        self.age = age\n",
    "        self.name = name\n",
    "        print(self.name, self.age, self.mentor)"
   ]
  },
  {
   "cell_type": "code",
   "execution_count": 79,
   "id": "1832e580",
   "metadata": {},
   "outputs": [],
   "source": [
    "stu = Student()"
   ]
  },
  {
   "cell_type": "code",
   "execution_count": 87,
   "id": "43f477f1",
   "metadata": {},
   "outputs": [
    {
     "name": "stdout",
     "output_type": "stream",
     "text": [
      "45\n"
     ]
    }
   ],
   "source": [
    "print(stu.age)"
   ]
  },
  {
   "cell_type": "code",
   "execution_count": 86,
   "id": "5435b4d8",
   "metadata": {},
   "outputs": [
    {
     "name": "stdout",
     "output_type": "stream",
     "text": [
      "Age45\n",
      "Aamir 45 Abhijeet\n"
     ]
    }
   ],
   "source": [
    "stu.hello(int(input('Age')), 'Aamir')"
   ]
  },
  {
   "cell_type": "code",
   "execution_count": 93,
   "id": "53e7309c",
   "metadata": {},
   "outputs": [],
   "source": [
    "class Student:\n",
    "    \n",
    "    mentor = 'Abhijeet'\n",
    "    \n",
    "    def __init__(self, name, age):\n",
    "        self.age = age\n",
    "        self.name = name\n",
    "        print(\"Chal gya\")\n",
    "    \n",
    "    def hello(self):\n",
    "#         self.age = age\n",
    "#         self.name = name\n",
    "        print(self.name, self.age, self.mentor)"
   ]
  },
  {
   "cell_type": "code",
   "execution_count": 94,
   "id": "9d5db3e6",
   "metadata": {},
   "outputs": [
    {
     "name": "stdout",
     "output_type": "stream",
     "text": [
      "Chal gya\n"
     ]
    }
   ],
   "source": [
    "stu = Student('Rahul', 40)"
   ]
  },
  {
   "cell_type": "code",
   "execution_count": 92,
   "id": "b124c31e",
   "metadata": {},
   "outputs": [
    {
     "name": "stdout",
     "output_type": "stream",
     "text": [
      "40 Rahul\n"
     ]
    }
   ],
   "source": [
    "print(stu.age, stu.name)"
   ]
  },
  {
   "cell_type": "code",
   "execution_count": 95,
   "id": "bc1b0f1b",
   "metadata": {},
   "outputs": [
    {
     "name": "stdout",
     "output_type": "stream",
     "text": [
      "Chal gya\n"
     ]
    }
   ],
   "source": [
    "a = Student('Nishant', 22)"
   ]
  },
  {
   "cell_type": "code",
   "execution_count": 96,
   "id": "b629dcf2",
   "metadata": {},
   "outputs": [
    {
     "name": "stdout",
     "output_type": "stream",
     "text": [
      "22 Nishant\n"
     ]
    }
   ],
   "source": [
    "print(a.age, a.name)"
   ]
  },
  {
   "cell_type": "code",
   "execution_count": 97,
   "id": "b13e6c2a",
   "metadata": {},
   "outputs": [
    {
     "name": "stdout",
     "output_type": "stream",
     "text": [
      "19\n"
     ]
    }
   ],
   "source": [
    "a = 10\n",
    "b = 9\n",
    "print(a+b)"
   ]
  },
  {
   "cell_type": "code",
   "execution_count": 99,
   "id": "99f7b9b9",
   "metadata": {},
   "outputs": [
    {
     "data": {
      "text/plain": [
       "True"
      ]
     },
     "execution_count": 99,
     "metadata": {},
     "output_type": "execute_result"
    }
   ],
   "source": [
    "isinstance(b, object)"
   ]
  },
  {
   "cell_type": "code",
   "execution_count": 100,
   "id": "593aeb1b",
   "metadata": {},
   "outputs": [],
   "source": [
    "class Car:\n",
    "    \n",
    "    def __init__(self, model, milage):\n",
    "        self.model = model\n",
    "        self.milage = milage\n",
    "        \n",
    "    def __add__(self, other):\n",
    "        return int(self.milage) + int(other.milage)\n",
    "    \n",
    "    def __eq__(self, other):\n",
    "        return int(self.milage) == int(other.milage)\n",
    "    \n",
    "    def __str__(self):\n",
    "        return \"{} {}\".format(self.milage, self.model)"
   ]
  },
  {
   "cell_type": "code",
   "execution_count": 101,
   "id": "8c0ab57a",
   "metadata": {},
   "outputs": [],
   "source": [
    "c1 = Car('BMW', 9)\n",
    "c2 = Car('Audi', 4)"
   ]
  },
  {
   "cell_type": "code",
   "execution_count": 102,
   "id": "4f91540d",
   "metadata": {},
   "outputs": [
    {
     "data": {
      "text/plain": [
       "False"
      ]
     },
     "execution_count": 102,
     "metadata": {},
     "output_type": "execute_result"
    }
   ],
   "source": [
    "c1 == c2"
   ]
  },
  {
   "cell_type": "code",
   "execution_count": 103,
   "id": "b6bfe4fa",
   "metadata": {},
   "outputs": [
    {
     "name": "stdout",
     "output_type": "stream",
     "text": [
      "13\n"
     ]
    }
   ],
   "source": [
    "print(c1+c2)"
   ]
  },
  {
   "cell_type": "code",
   "execution_count": 105,
   "id": "04ec93fb",
   "metadata": {},
   "outputs": [
    {
     "data": {
      "text/plain": [
       "'9 BMW'"
      ]
     },
     "execution_count": 105,
     "metadata": {},
     "output_type": "execute_result"
    }
   ],
   "source": [
    "str(c1)"
   ]
  },
  {
   "cell_type": "code",
   "execution_count": 106,
   "id": "e0386dde",
   "metadata": {},
   "outputs": [],
   "source": [
    "class Dog:\n",
    "    Breed = None\n",
    "    name = None\n",
    "    tricks = None\n",
    "    \n",
    "    def __init__(self,Breed,Name,tricks):\n",
    "        self.Breed = Breed\n",
    "        self.Name = Name\n",
    "        self.tricks = tricks\n",
    "    \n",
    "    def hello(self):\n",
    "        print(self.Breed,self.Name,self.tricks)"
   ]
  },
  {
   "cell_type": "code",
   "execution_count": 107,
   "id": "ffb90881",
   "metadata": {},
   "outputs": [],
   "source": [
    "h = Dog('Puppy','Pug',['Eat','Sleep'])\n",
    "i = Dog('GS','Simba',['Run','Jump','Stand'])"
   ]
  },
  {
   "cell_type": "code",
   "execution_count": 242,
   "id": "da9cb9d1",
   "metadata": {},
   "outputs": [],
   "source": [
    "class Dog:\n",
    "    \n",
    "    def __init__(self, dog_name, dog_breed):\n",
    "        self.name = dog_name\n",
    "        self.breed = dog_breed\n",
    "        self.total_tricks = []\n",
    "        \n",
    "    def update_tricks(self, trick):\n",
    "        self.total_tricks.append(trick)"
   ]
  },
  {
   "cell_type": "code",
   "execution_count": 243,
   "id": "0106ccd3",
   "metadata": {},
   "outputs": [],
   "source": [
    "d = Dog('Coco', 'Labra')"
   ]
  },
  {
   "cell_type": "code",
   "execution_count": 244,
   "id": "226444cc",
   "metadata": {},
   "outputs": [
    {
     "data": {
      "text/plain": [
       "[]"
      ]
     },
     "execution_count": 244,
     "metadata": {},
     "output_type": "execute_result"
    }
   ],
   "source": [
    "d.total_tricks"
   ]
  },
  {
   "cell_type": "code",
   "execution_count": 245,
   "id": "19bb3e88",
   "metadata": {},
   "outputs": [],
   "source": [
    "d.update_tricks('sit')\n",
    "d.update_tricks('dance')\n",
    "d.update_tricks('fetch')\n",
    "d.update_tricks('hello')"
   ]
  },
  {
   "cell_type": "code",
   "execution_count": 246,
   "id": "2e1f8212",
   "metadata": {},
   "outputs": [
    {
     "data": {
      "text/plain": [
       "['sit', 'dance', 'fetch', 'hello']"
      ]
     },
     "execution_count": 246,
     "metadata": {},
     "output_type": "execute_result"
    }
   ],
   "source": [
    "d.total_tricks"
   ]
  },
  {
   "cell_type": "code",
   "execution_count": 247,
   "id": "9f217147",
   "metadata": {},
   "outputs": [],
   "source": [
    "a = Dog('Puffy', 'German Shefard')"
   ]
  },
  {
   "cell_type": "code",
   "execution_count": 248,
   "id": "3b8c2636",
   "metadata": {},
   "outputs": [
    {
     "data": {
      "text/plain": [
       "[]"
      ]
     },
     "execution_count": 248,
     "metadata": {},
     "output_type": "execute_result"
    }
   ],
   "source": [
    "a.total_tricks"
   ]
  },
  {
   "cell_type": "code",
   "execution_count": 249,
   "id": "4e690f84",
   "metadata": {},
   "outputs": [],
   "source": [
    "a.update_tricks('dance')"
   ]
  },
  {
   "cell_type": "code",
   "execution_count": 250,
   "id": "1629c363",
   "metadata": {},
   "outputs": [
    {
     "data": {
      "text/plain": [
       "['dance']"
      ]
     },
     "execution_count": 250,
     "metadata": {},
     "output_type": "execute_result"
    }
   ],
   "source": [
    "a.total_tricks"
   ]
  },
  {
   "cell_type": "code",
   "execution_count": 251,
   "id": "30d62671",
   "metadata": {},
   "outputs": [
    {
     "name": "stdout",
     "output_type": "stream",
     "text": [
      "140638732691840 140638732717888\n"
     ]
    }
   ],
   "source": [
    "print(id(a.total_tricks), id(d.total_tricks))"
   ]
  },
  {
   "cell_type": "code",
   "execution_count": 217,
   "id": "17f0858a",
   "metadata": {},
   "outputs": [
    {
     "name": "stdout",
     "output_type": "stream",
     "text": [
      "Please enter type of dogpitbull\n",
      "pitbull sit,Fetch\n",
      "sit,Fetch\n"
     ]
    }
   ],
   "source": [
    "class Dog:\n",
    "     dogbreed=''\n",
    "     tricks=''\n",
    "     def __init__(self,a):\n",
    "         if a=='Labradour':\n",
    "            self.dogbreed='Labradour'\n",
    "            self.tricks='Sit'\n",
    "            print(self.dogbreed,self.tricks)\n",
    "         if a=='pitbull':\n",
    "            self.dogbreed='pitbull'\n",
    "            self.tricks='sit,Fetch'\n",
    "            print(self.dogbreed,self.tricks)\n",
    "         elif a=='german shepherd':\n",
    "              self.dogbreed='german shepherd'\n",
    "              self.tricks='sit,dance,fetch'\n",
    "              print(self.dogbreed,self.tricks)\n",
    "a=input('Please enter type of dog')\n",
    "d=Dog(a)\n",
    "print(d.tricks)"
   ]
  },
  {
   "cell_type": "code",
   "execution_count": 115,
   "id": "be92fac1",
   "metadata": {},
   "outputs": [],
   "source": [
    "class Dog:\n",
    "    tricks = []\n",
    "    \n",
    "    def __init__(self,name,breed,tricks):\n",
    "        self.name = name\n",
    "        self.breed = breed\n",
    "        self.tricks = tricks\n",
    "        \n",
    "    def tri(self):\n",
    "        print(self.name,self.breed, self.tricks)\n",
    "        \n",
    "    def updat(self,trick):\n",
    "        self.tricks.append(trick)"
   ]
  },
  {
   "cell_type": "code",
   "execution_count": 116,
   "id": "80978873",
   "metadata": {},
   "outputs": [],
   "source": [
    "dog1 = Dog('Coco', 'Labra', 'sit')"
   ]
  },
  {
   "cell_type": "code",
   "execution_count": 118,
   "id": "d478dde3",
   "metadata": {},
   "outputs": [
    {
     "name": "stdout",
     "output_type": "stream",
     "text": [
      "Coco Labra sit\n"
     ]
    }
   ],
   "source": [
    "dog1.tri()"
   ]
  },
  {
   "cell_type": "code",
   "execution_count": 119,
   "id": "e20c0294",
   "metadata": {},
   "outputs": [],
   "source": [
    "dog2 = Dog('Puffy', 'German Shefard', 'dance')"
   ]
  },
  {
   "cell_type": "code",
   "execution_count": 120,
   "id": "5275e03f",
   "metadata": {},
   "outputs": [
    {
     "name": "stdout",
     "output_type": "stream",
     "text": [
      "Puffy German Shefard dance\n"
     ]
    }
   ],
   "source": [
    "dog2.tri()"
   ]
  },
  {
   "cell_type": "code",
   "execution_count": 228,
   "id": "25744735",
   "metadata": {},
   "outputs": [],
   "source": [
    "def temp(name = 'abhijeet'):\n",
    "    print('Name is', name)"
   ]
  },
  {
   "cell_type": "code",
   "execution_count": 229,
   "id": "23583e98",
   "metadata": {},
   "outputs": [
    {
     "name": "stdout",
     "output_type": "stream",
     "text": [
      "<function temp at 0x7fe901b6a940>\n"
     ]
    }
   ],
   "source": [
    "print(temp)"
   ]
  },
  {
   "cell_type": "code",
   "execution_count": 252,
   "id": "8f055a26",
   "metadata": {},
   "outputs": [],
   "source": [
    "class Class1:\n",
    "    \n",
    "    def m(self):\n",
    "        print(\"In class 1\")\n",
    "        \n",
    "class Class2:\n",
    "    \n",
    "    def m(self):\n",
    "        print(\"In class 2\")\n",
    "    \n",
    "class Class3:\n",
    "    \n",
    "    def m(self):\n",
    "        print(\"In class 3\")\n",
    "        \n",
    "class Class4:\n",
    "    \n",
    "    def m(self):\n",
    "        print(\"In class 4\")"
   ]
  },
  {
   "cell_type": "code",
   "execution_count": 255,
   "id": "54fdbac2",
   "metadata": {},
   "outputs": [
    {
     "name": "stdout",
     "output_type": "stream",
     "text": [
      "Next\n",
      "In class 1\n"
     ]
    }
   ],
   "source": [
    "obj = Class1()\n",
    "print(\"Next\")\n",
    "obj.m()"
   ]
  },
  {
   "cell_type": "code",
   "execution_count": 256,
   "id": "13bf40ce",
   "metadata": {},
   "outputs": [
    {
     "name": "stdout",
     "output_type": "stream",
     "text": [
      "In class 2\n"
     ]
    }
   ],
   "source": [
    "Class2.m(obj)"
   ]
  },
  {
   "cell_type": "code",
   "execution_count": 5,
   "id": "338c15dc",
   "metadata": {},
   "outputs": [],
   "source": [
    "class School_Members:\n",
    "    \n",
    "    def __init__(self, name, age):\n",
    "        self.name = name\n",
    "        self.age = age\n",
    "        print(f\"Initialised School Member: {self.name}\")\n",
    "        \n",
    "    def tell(self):\n",
    "        print(f\"Name: {self.name}, Age: {self.age}\")\n",
    "        \n",
    "    \n",
    "class Teachers(School_Members):\n",
    "    \n",
    "    def __init__(self, teacher_name, teacher_age, teacher_salary):\n",
    "        School_Members.__init__(self, teacher_name, teacher_age)\n",
    "        self.salary = teacher_salary\n",
    "        print(f\"Initialised Teacher: {self.name}\")\n",
    "        \n",
    "    def tell(self):\n",
    "        School_Members.tell(self)\n",
    "        print(f\"Salary: {self.salary}\")\n",
    "        \n",
    "class Students(School_Members):\n",
    "    \n",
    "    def __init__(self, student_name, student_age, student_marks):\n",
    "        School_Members.__init__(self, student_name, student_age)\n",
    "        self.marks = student_marks\n",
    "        print(f\"Initialised Student: {self.name}\")\n",
    "        \n",
    "    def tell(self):\n",
    "        School_Members.tell(self)\n",
    "        print(f\"Marks: {self.marks}\")"
   ]
  },
  {
   "cell_type": "code",
   "execution_count": 6,
   "id": "b3c84890",
   "metadata": {},
   "outputs": [
    {
     "name": "stdout",
     "output_type": "stream",
     "text": [
      "Initialised School Member: Abhijeet\n",
      "Initialised Teacher: Abhijeet\n",
      "Initialised School Member: Aamir\n",
      "Initialised Student: Aamir\n"
     ]
    }
   ],
   "source": [
    "t = Teachers('Abhijeet', 22, 1000)\n",
    "s = Students('Aamir', 19, 75)"
   ]
  },
  {
   "cell_type": "code",
   "execution_count": 7,
   "id": "833bd56a",
   "metadata": {},
   "outputs": [
    {
     "name": "stdout",
     "output_type": "stream",
     "text": [
      "Name: Abhijeet, Age: 22\n",
      "Salary: 1000\n",
      "Name: Aamir, Age: 19\n",
      "Marks: 75\n"
     ]
    }
   ],
   "source": [
    "t.tell()\n",
    "s.tell()"
   ]
  },
  {
   "cell_type": "code",
   "execution_count": 13,
   "id": "5333cb78",
   "metadata": {},
   "outputs": [],
   "source": [
    "class School_Members:\n",
    "    \n",
    "    def __init__(self, name, age):\n",
    "        self.name = name\n",
    "        self.age = age\n",
    "        print(f\"Initialised School Member: {self.name}\")\n",
    "        \n",
    "    def tell(self):\n",
    "        print(f\"Name: {self.name}, Age: {self.age}\")\n",
    "        \n",
    "    \n",
    "class Teachers(School_Members):\n",
    "    \n",
    "    def __init__(self, teacher_name, teacher_age, teacher_salary):\n",
    "        super().__init__(teacher_name, teacher_age)\n",
    "        self.salary = teacher_salary\n",
    "        print(f\"Initialised Teacher: {self.name}\")\n",
    "        \n",
    "    def tell(self):\n",
    "        super().tell()\n",
    "        print(f\"Salary: {self.salary}\")\n",
    "        \n",
    "class Students(School_Members):\n",
    "    \n",
    "    def __init__(self, student_name, student_age, student_marks):\n",
    "        super().__init__(student_name, student_age)\n",
    "        self.marks = student_marks\n",
    "        print(f\"Initialised Student: {self.name}\")\n",
    "        \n",
    "    def tell(self):\n",
    "        super().tell()\n",
    "        print(f\"Marks: {self.marks}\")"
   ]
  },
  {
   "cell_type": "code",
   "execution_count": 14,
   "id": "f89917a2",
   "metadata": {},
   "outputs": [
    {
     "name": "stdout",
     "output_type": "stream",
     "text": [
      "Initialised School Member: Abhijeet\n",
      "Initialised Teacher: Abhijeet\n",
      "Initialised School Member: Aamir\n",
      "Initialised Student: Aamir\n"
     ]
    }
   ],
   "source": [
    "t = Teachers('Abhijeet', 22, 1000)\n",
    "s = Students('Aamir', 19, 75)"
   ]
  },
  {
   "cell_type": "code",
   "execution_count": 15,
   "id": "e071c610",
   "metadata": {},
   "outputs": [
    {
     "name": "stdout",
     "output_type": "stream",
     "text": [
      "Name: Abhijeet, Age: 22\n",
      "Salary: 1000\n",
      "Name: Aamir, Age: 19\n",
      "Marks: 75\n"
     ]
    }
   ],
   "source": [
    "t.tell()\n",
    "s.tell()"
   ]
  },
  {
   "cell_type": "code",
   "execution_count": 50,
   "id": "f4cbce24",
   "metadata": {},
   "outputs": [
    {
     "name": "stdout",
     "output_type": "stream",
     "text": [
      "In class 4\n",
      "Next\n",
      "In class 3\n"
     ]
    }
   ],
   "source": [
    "class Class1:\n",
    "    \n",
    "    def m(self):\n",
    "        print(\"In class 1\")\n",
    "        \n",
    "class Class2(Class1):\n",
    "    \n",
    "    def m(self):\n",
    "        print(\"In class 2\")\n",
    "#     pass\n",
    "    \n",
    "class Class3(Class1):\n",
    "    \n",
    "    def m(self):\n",
    "        print(\"In class 3\")\n",
    "        \n",
    "class Class4(Class3, Class2):\n",
    "    \n",
    "    print(\"In class 4\")\n",
    "    pass\n",
    "\n",
    "obj = Class4()\n",
    "print('Next')\n",
    "obj.m()"
   ]
  },
  {
   "cell_type": "code",
   "execution_count": 47,
   "id": "2e15aa35",
   "metadata": {},
   "outputs": [
    {
     "name": "stdout",
     "output_type": "stream",
     "text": [
      "In class 1\n"
     ]
    }
   ],
   "source": [
    "Class2.m(obj)"
   ]
  },
  {
   "cell_type": "code",
   "execution_count": 31,
   "id": "cfa28529",
   "metadata": {},
   "outputs": [
    {
     "name": "stdout",
     "output_type": "stream",
     "text": [
      "0\n",
      "1\n",
      "2\n",
      "3\n"
     ]
    }
   ],
   "source": [
    "a = 10\n",
    "for i in range(5):\n",
    "    print(i)\n",
    "    if a==10:\n",
    "        pass\n",
    "    if i==3:\n",
    "        a = 0\n",
    "    if (a!=10):\n",
    "        break"
   ]
  },
  {
   "cell_type": "code",
   "execution_count": 27,
   "id": "a9cc6a36",
   "metadata": {},
   "outputs": [],
   "source": [
    "for i in range(50):\n",
    "    pass"
   ]
  },
  {
   "cell_type": "code",
   "execution_count": 37,
   "id": "89c3c201",
   "metadata": {},
   "outputs": [],
   "source": [
    "def adder(a, b, *args):\n",
    "    print(a + b)\n",
    "    for i in args:\n",
    "        print(i)"
   ]
  },
  {
   "cell_type": "code",
   "execution_count": 38,
   "id": "cafb4385",
   "metadata": {},
   "outputs": [
    {
     "name": "stdout",
     "output_type": "stream",
     "text": [
      "30\n",
      "22\n",
      "99\n"
     ]
    }
   ],
   "source": [
    "adder(10, 20, 22, 99)"
   ]
  },
  {
   "cell_type": "code",
   "execution_count": 62,
   "id": "3fd4740e",
   "metadata": {},
   "outputs": [],
   "source": [
    "class Best_friend:\n",
    "    \n",
    "    best_friends = {}\n",
    "    \n",
    "    def __init__(self, name):\n",
    "        self.best_friends[str(name)] = []\n",
    "        \n",
    "    def add_best_friend(self, name, name_best_friend):\n",
    "        self.best_friends[str(name)].append(name_best_friend)\n",
    "\n",
    "class Person(Best_friend):\n",
    "    \n",
    "    def __init__(self, name, age):\n",
    "        super().__init__(name)\n",
    "        self.name = name\n",
    "        self.age = age\n",
    "        \n",
    "    def my_best_friend(self, best_friend):\n",
    "        super().add_best_friend(self.name, best_friend)"
   ]
  },
  {
   "cell_type": "code",
   "execution_count": 63,
   "id": "6e0c3c0f",
   "metadata": {},
   "outputs": [],
   "source": [
    "a = Person(\"Abhijeet\", 22)\n",
    "b = Person('Aamir', 19)\n",
    "c = Person('Rohit', 25)"
   ]
  },
  {
   "cell_type": "code",
   "execution_count": 64,
   "id": "d2df5f4e",
   "metadata": {},
   "outputs": [
    {
     "data": {
      "text/plain": [
       "'Rohit'"
      ]
     },
     "execution_count": 64,
     "metadata": {},
     "output_type": "execute_result"
    }
   ],
   "source": [
    "c.name"
   ]
  },
  {
   "cell_type": "code",
   "execution_count": 69,
   "id": "13debad5",
   "metadata": {},
   "outputs": [],
   "source": [
    "a.my_best_friend(b.name)"
   ]
  },
  {
   "cell_type": "code",
   "execution_count": 71,
   "id": "4c5be9e4",
   "metadata": {},
   "outputs": [
    {
     "data": {
      "text/plain": [
       "{'Abhijeet': ['Rohit', 'Aamir'], 'Aamir': ['Sahil'], 'Rohit': []}"
      ]
     },
     "execution_count": 71,
     "metadata": {},
     "output_type": "execute_result"
    }
   ],
   "source": [
    "a.best_friends"
   ]
  },
  {
   "cell_type": "code",
   "execution_count": 67,
   "id": "332775a5",
   "metadata": {},
   "outputs": [],
   "source": [
    "b.my_best_friend('Sahil')"
   ]
  },
  {
   "cell_type": "code",
   "execution_count": 70,
   "id": "b05c15e7",
   "metadata": {},
   "outputs": [
    {
     "data": {
      "text/plain": [
       "{'Abhijeet': ['Rohit', 'Aamir'], 'Aamir': ['Sahil'], 'Rohit': []}"
      ]
     },
     "execution_count": 70,
     "metadata": {},
     "output_type": "execute_result"
    }
   ],
   "source": [
    "b.best_friends"
   ]
  },
  {
   "cell_type": "code",
   "execution_count": 72,
   "id": "f29f7e10",
   "metadata": {},
   "outputs": [
    {
     "name": "stdout",
     "output_type": "stream",
     "text": [
      "140407794349312 140407794349312\n"
     ]
    }
   ],
   "source": [
    "print(id(a.best_friends), id(b.best_friends))"
   ]
  },
  {
   "cell_type": "code",
   "execution_count": 76,
   "id": "507069f0",
   "metadata": {},
   "outputs": [
    {
     "name": "stdout",
     "output_type": "stream",
     "text": [
      "Best friends of Abhijeet---> ['Rohit', 'Aamir']\n"
     ]
    }
   ],
   "source": [
    "print(\"Best friends of Abhijeet--->\", a.best_friends[a.name])"
   ]
  },
  {
   "cell_type": "code",
   "execution_count": null,
   "id": "f81f13d1",
   "metadata": {},
   "outputs": [],
   "source": []
  }
 ],
 "metadata": {
  "kernelspec": {
   "display_name": "Python 3 (ipykernel)",
   "language": "python",
   "name": "python3"
  },
  "language_info": {
   "codemirror_mode": {
    "name": "ipython",
    "version": 3
   },
   "file_extension": ".py",
   "mimetype": "text/x-python",
   "name": "python",
   "nbconvert_exporter": "python",
   "pygments_lexer": "ipython3",
   "version": "3.8.10"
  }
 },
 "nbformat": 4,
 "nbformat_minor": 5
}
