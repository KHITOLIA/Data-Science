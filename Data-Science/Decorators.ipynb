{
 "cells": [
  {
   "cell_type": "code",
   "execution_count": 1,
   "id": "7d5da495",
   "metadata": {},
   "outputs": [],
   "source": [
    "users = {\n",
    "    'Abhijeet': 'password',\n",
    "    'Rohit': 'coding blocks'\n",
    "}"
   ]
  },
  {
   "cell_type": "code",
   "execution_count": 9,
   "id": "c3894127",
   "metadata": {},
   "outputs": [
    {
     "data": {
      "text/plain": [
       "'coding blocks'"
      ]
     },
     "execution_count": 9,
     "metadata": {},
     "output_type": "execute_result"
    }
   ],
   "source": [
    "users['Rohit']"
   ]
  },
  {
   "cell_type": "code",
   "execution_count": 5,
   "id": "90dbf080",
   "metadata": {},
   "outputs": [],
   "source": [
    "def show(username, password):\n",
    "    \n",
    "    if username in users and users[username] == password:\n",
    "        print(\"Hello World, You are authenticated\")\n",
    "        \n",
    "    else:\n",
    "        print(\"Not authenticated\")"
   ]
  },
  {
   "cell_type": "code",
   "execution_count": 8,
   "id": "76495286",
   "metadata": {},
   "outputs": [
    {
     "name": "stdout",
     "output_type": "stream",
     "text": [
      "Not authenticated\n"
     ]
    }
   ],
   "source": [
    "show('Rohit', 'password')"
   ]
  },
  {
   "cell_type": "code",
   "execution_count": 10,
   "id": "f4aa5aef",
   "metadata": {},
   "outputs": [],
   "source": [
    "def add(username, password, a, b):\n",
    "    if username in users and users[username] == password:\n",
    "        print(a+b)\n",
    "        \n",
    "    else:\n",
    "        print(\"Not authenticated\")"
   ]
  },
  {
   "cell_type": "code",
   "execution_count": 13,
   "id": "3f051f12",
   "metadata": {},
   "outputs": [
    {
     "name": "stdout",
     "output_type": "stream",
     "text": [
      "3\n"
     ]
    }
   ],
   "source": [
    "add('Rohit', 'coding blocks', 1, 2)"
   ]
  },
  {
   "cell_type": "code",
   "execution_count": 26,
   "id": "22ad77a9",
   "metadata": {},
   "outputs": [],
   "source": [
    "def add(a, b):\n",
    "    print(a+b)"
   ]
  },
  {
   "cell_type": "code",
   "execution_count": 27,
   "id": "ea53488c",
   "metadata": {},
   "outputs": [],
   "source": [
    "def login_requ(func):\n",
    "    def wrapper(username, password, *args, **kwargs):\n",
    "        if username in users and users[username] == password:\n",
    "#             user authenticated\n",
    "            func(*args, **kwargs)\n",
    "        else:\n",
    "            print(\"Not Authenticated\")\n",
    "    \n",
    "    return wrapper"
   ]
  },
  {
   "cell_type": "code",
   "execution_count": 28,
   "id": "71887ef1",
   "metadata": {},
   "outputs": [
    {
     "name": "stdout",
     "output_type": "stream",
     "text": [
      "<function add at 0x7f8cd3fba8b0>\n"
     ]
    }
   ],
   "source": [
    "print(add)"
   ]
  },
  {
   "cell_type": "code",
   "execution_count": 29,
   "id": "a3ee04ae",
   "metadata": {},
   "outputs": [
    {
     "name": "stdout",
     "output_type": "stream",
     "text": [
      "3\n"
     ]
    }
   ],
   "source": [
    "add(1, 2)"
   ]
  },
  {
   "cell_type": "code",
   "execution_count": 30,
   "id": "c02b9c2b",
   "metadata": {},
   "outputs": [],
   "source": [
    "protec_add = login_requ(add)"
   ]
  },
  {
   "cell_type": "code",
   "execution_count": 31,
   "id": "d4216a6f",
   "metadata": {},
   "outputs": [],
   "source": [
    "temp = print"
   ]
  },
  {
   "cell_type": "code",
   "execution_count": 32,
   "id": "71d68947",
   "metadata": {},
   "outputs": [
    {
     "name": "stdout",
     "output_type": "stream",
     "text": [
      "Hello world\n"
     ]
    }
   ],
   "source": [
    "temp(\"Hello world\")"
   ]
  },
  {
   "cell_type": "code",
   "execution_count": 33,
   "id": "e20aef51",
   "metadata": {},
   "outputs": [
    {
     "name": "stdout",
     "output_type": "stream",
     "text": [
      "3\n"
     ]
    }
   ],
   "source": [
    "protec_add('Abhijeet', 'password', 1, 2)"
   ]
  },
  {
   "cell_type": "code",
   "execution_count": 34,
   "id": "169777ea",
   "metadata": {},
   "outputs": [
    {
     "name": "stdout",
     "output_type": "stream",
     "text": [
      "Not Authenticated\n"
     ]
    }
   ],
   "source": [
    "protec_add('sjdbfajshb', 'password', 1, 2)"
   ]
  },
  {
   "cell_type": "code",
   "execution_count": 35,
   "id": "0ea8eeb8",
   "metadata": {},
   "outputs": [],
   "source": [
    "add = login_requ(add)"
   ]
  },
  {
   "cell_type": "code",
   "execution_count": 36,
   "id": "ff969f08",
   "metadata": {},
   "outputs": [
    {
     "name": "stdout",
     "output_type": "stream",
     "text": [
      "112\n"
     ]
    }
   ],
   "source": [
    "add('Rohit', 'coding blocks', 90, 22)"
   ]
  },
  {
   "cell_type": "code",
   "execution_count": 38,
   "id": "8df356c7",
   "metadata": {},
   "outputs": [],
   "source": [
    "def add(a, b):\n",
    "    print(a+b)\n",
    "add = login_requ(add)"
   ]
  },
  {
   "cell_type": "code",
   "execution_count": 39,
   "id": "48eb6417",
   "metadata": {},
   "outputs": [],
   "source": [
    "# Equivalent code"
   ]
  },
  {
   "cell_type": "code",
   "execution_count": 40,
   "id": "d6ba31f9",
   "metadata": {},
   "outputs": [],
   "source": [
    "@login_requ\n",
    "def add(a, b):\n",
    "    print(a+b)"
   ]
  },
  {
   "cell_type": "code",
   "execution_count": 41,
   "id": "a37d9add",
   "metadata": {},
   "outputs": [
    {
     "name": "stdout",
     "output_type": "stream",
     "text": [
      "51\n"
     ]
    }
   ],
   "source": [
    "add('Abhijeet', 'password', 29, 22)"
   ]
  },
  {
   "cell_type": "code",
   "execution_count": 42,
   "id": "b437187c",
   "metadata": {},
   "outputs": [],
   "source": [
    "def temp(a, b, *args, **kwargs):\n",
    "    print(a, b)\n",
    "    print(args)\n",
    "    print(kwargs)"
   ]
  },
  {
   "cell_type": "code",
   "execution_count": 44,
   "id": "1c80fbb5",
   "metadata": {},
   "outputs": [
    {
     "name": "stdout",
     "output_type": "stream",
     "text": [
      "1 44\n",
      "(22, 77, 344, 33)\n",
      "{'name': 'Abhijeet'}\n"
     ]
    }
   ],
   "source": [
    "temp(1, 44, 22, 77, 344, 33, name = 'Abhijeet')"
   ]
  },
  {
   "cell_type": "code",
   "execution_count": 45,
   "id": "de743f7a",
   "metadata": {},
   "outputs": [
    {
     "name": "stdout",
     "output_type": "stream",
     "text": [
      "Enter n:2\n",
      "Name:Abhijeet\n",
      "Roll no.:001\n",
      "Branch:CSE\n",
      "Name:Aamir\n",
      "Roll no.:004\n",
      "Branch:IT\n"
     ]
    }
   ],
   "source": [
    "num = input('Enter n:')\n",
    "student = []\n",
    "for i in range(int(num)):\n",
    "    name = input('Name:')\n",
    "    roll = int(input('Roll no.:'))\n",
    "    branch = input('Branch:')\n",
    "    student.append({\n",
    "        'name': name, \n",
    "        'roll': roll,\n",
    "        'branch': branch\n",
    "    })"
   ]
  },
  {
   "cell_type": "code",
   "execution_count": 46,
   "id": "c3a10f9b",
   "metadata": {},
   "outputs": [
    {
     "data": {
      "text/plain": [
       "[{'name': 'Abhijeet', 'roll': 1, 'branch': 'CSE'},\n",
       " {'name': 'Aamir', 'roll': 4, 'branch': 'IT'}]"
      ]
     },
     "execution_count": 46,
     "metadata": {},
     "output_type": "execute_result"
    }
   ],
   "source": [
    "student"
   ]
  },
  {
   "cell_type": "code",
   "execution_count": null,
   "id": "62c8a012",
   "metadata": {},
   "outputs": [],
   "source": []
  }
 ],
 "metadata": {
  "kernelspec": {
   "display_name": "Python 3 (ipykernel)",
   "language": "python",
   "name": "python3"
  },
  "language_info": {
   "codemirror_mode": {
    "name": "ipython",
    "version": 3
   },
   "file_extension": ".py",
   "mimetype": "text/x-python",
   "name": "python",
   "nbconvert_exporter": "python",
   "pygments_lexer": "ipython3",
   "version": "3.8.10"
  }
 },
 "nbformat": 4,
 "nbformat_minor": 5
}
