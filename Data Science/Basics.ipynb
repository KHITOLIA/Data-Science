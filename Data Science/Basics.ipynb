{
 "cells": [
  {
   "cell_type": "code",
   "execution_count": 4,
   "id": "98fc04eb-084e-48f2-a834-75efa65393b6",
   "metadata": {},
   "outputs": [
    {
     "name": "stdin",
     "output_type": "stream",
     "text": [
      "enter the number 34\n"
     ]
    },
    {
     "name": "stdout",
     "output_type": "stream",
     "text": [
      "even\n"
     ]
    }
   ],
   "source": [
    "num =  int(input('enter the number'))\n",
    "if num % 2==0:\n",
    "   print('even')\n",
    "else:\n",
    "     print('odd')   "
   ]
  },
  {
   "cell_type": "code",
   "execution_count": 6,
   "id": "d74750f7-c1e6-4d9b-9c4b-260ca49dfb82",
   "metadata": {},
   "outputs": [
    {
     "data": {
      "text/plain": [
       "True"
      ]
     },
     "execution_count": 6,
     "metadata": {},
     "output_type": "execute_result"
    }
   ],
   "source": [
    "isinstance(1, int)"
   ]
  },
  {
   "cell_type": "code",
   "execution_count": 8,
   "id": "8300eb56-575d-4ca1-9158-e8f2ecc56c7a",
   "metadata": {},
   "outputs": [
    {
     "name": "stdout",
     "output_type": "stream",
     "text": [
      "120\n"
     ]
    }
   ],
   "source": [
    "x = 1\n",
    "for i in range(0,5):\n",
    "    x = x*(i+1)\n",
    "print(x)    "
   ]
  },
  {
   "cell_type": "code",
   "execution_count": 27,
   "id": "8094555d-f269-41e2-babb-01f279d4a92d",
   "metadata": {},
   "outputs": [],
   "source": [
    "def func():\n",
    "    a = 0\n",
    "    b = int(input('enter the number'))\n",
    "    c = int(input('enter the number'))\n",
    "    for i in range(b,c):\n",
    "        a = a+i\n",
    "    return(a)"
   ]
  },
  {
   "cell_type": "code",
   "execution_count": 30,
   "id": "3d601d58-2b56-44a0-a55a-886a90dc40b8",
   "metadata": {},
   "outputs": [
    {
     "name": "stdin",
     "output_type": "stream",
     "text": [
      "enter the number 0\n",
      "enter the number 5\n"
     ]
    },
    {
     "data": {
      "text/plain": [
       "10"
      ]
     },
     "execution_count": 30,
     "metadata": {},
     "output_type": "execute_result"
    }
   ],
   "source": [
    "func()"
   ]
  },
  {
   "cell_type": "code",
   "execution_count": 100,
   "id": "3446336b-8fcf-4db6-922b-731bd0d076e8",
   "metadata": {},
   "outputs": [],
   "source": [
    "st = 'twilight saga new chapter'\n",
    "l = []\n",
    "n = 0\n",
    "for i in range(len(st)):\n",
    "    if st[i] == ' ':\n",
    "        l.append(st[n:i])\n",
    "        n = i+1\n",
    "l.append(st[n:])        "
   ]
  },
  {
   "cell_type": "code",
   "execution_count": 101,
   "id": "dbcb4ec6-f424-4caf-8554-41395a3a74ef",
   "metadata": {},
   "outputs": [
    {
     "data": {
      "text/plain": [
       "['twilight', 'saga', 'new', 'chapter']"
      ]
     },
     "execution_count": 101,
     "metadata": {},
     "output_type": "execute_result"
    }
   ],
   "source": [
    "l"
   ]
  },
  {
   "cell_type": "code",
   "execution_count": 106,
   "id": "67972a22-b362-4ac9-8599-91dd89b38b35",
   "metadata": {},
   "outputs": [
    {
     "name": "stdout",
     "output_type": "stream",
     "text": [
      "occurence of T 3\n",
      "occurence of W 2\n",
      "occurence of I 2\n",
      "occurence of L 1\n",
      "occurence of G 2\n",
      "occurence of H 2\n",
      "occurence of   3\n",
      "occurence of S 1\n",
      "occurence of A 3\n",
      "occurence of N 1\n",
      "occurence of E 2\n",
      "occurence of C 1\n",
      "occurence of P 1\n",
      "occurence of R 1\n"
     ]
    }
   ],
   "source": [
    "st = st.upper()\n",
    "l = []\n",
    "for i in st:\n",
    "    if i not in l:\n",
    "        print('occurence of', i, st.count(i))\n",
    "        l.append(i)\n",
    "    "
   ]
  },
  {
   "cell_type": "code",
   "execution_count": 107,
   "id": "577e2de3-c8d7-4522-98e0-a85e41ac9ed6",
   "metadata": {},
   "outputs": [],
   "source": [
    "d = {\n",
    "    'a':'first student',\n",
    "    'b':'second',\n",
    "    'c':32,\n",
    "    'd':{\n",
    "        'hello':42,\n",
    "        'hi':44\n",
    "    },\n",
    "    'e':[1,2,3,4]\n",
    "}"
   ]
  },
  {
   "cell_type": "code",
   "execution_count": 112,
   "id": "78995c31-50c5-4db7-85fd-84ebf64b7ca0",
   "metadata": {},
   "outputs": [
    {
     "data": {
      "text/plain": [
       "'first student'"
      ]
     },
     "execution_count": 112,
     "metadata": {},
     "output_type": "execute_result"
    }
   ],
   "source": [
    "d.get('a')\n"
   ]
  },
  {
   "cell_type": "code",
   "execution_count": 163,
   "id": "840cd9d6-2fa9-427c-a4bc-ce0925994f34",
   "metadata": {},
   "outputs": [
    {
     "name": "stdout",
     "output_type": "stream",
     "text": [
      "a first student\n",
      "b second\n",
      "c 32\n",
      "d {'hello': 42, 'hi': 44}\n",
      "e [1, 2, 3, 4]\n"
     ]
    }
   ],
   "source": [
    "# a[i[0]] = i[1]\n",
    "for i in d.items():\n",
    "    print(i[0], i[1])"
   ]
  },
  {
   "cell_type": "code",
   "execution_count": 164,
   "id": "556290dd-f898-4987-9562-18e10cbdffd3",
   "metadata": {},
   "outputs": [
    {
     "name": "stdout",
     "output_type": "stream",
     "text": [
      "first student\n",
      "second\n",
      "32\n",
      "{'hello': 42, 'hi': 44}\n",
      "[1, 2, 3, 4]\n"
     ]
    }
   ],
   "source": [
    "for i in d.keys():\n",
    "    print(d[i])"
   ]
  },
  {
   "cell_type": "markdown",
   "id": "ef8b734f-255b-4c72-9dc8-c2bbd08e0e5e",
   "metadata": {},
   "source": [
    "### Find the largest number in the list"
   ]
  },
  {
   "cell_type": "code",
   "execution_count": 165,
   "id": "7807d861-90bf-4a41-a4fc-a47cd3709664",
   "metadata": {},
   "outputs": [],
   "source": [
    "def largest_number(l):\n",
    "    large = l[0]\n",
    "    for i in l:\n",
    "        if i > large:\n",
    "            large = i\n",
    "    return large        \n",
    "            "
   ]
  },
  {
   "cell_type": "code",
   "execution_count": 169,
   "id": "e9fd005f-597d-40d4-9cae-2602e2b06527",
   "metadata": {},
   "outputs": [
    {
     "data": {
      "text/plain": [
       "5443"
      ]
     },
     "execution_count": 169,
     "metadata": {},
     "output_type": "execute_result"
    }
   ],
   "source": [
    "l = [343,567,5443,89]\n",
    "largest_number(l)"
   ]
  },
  {
   "cell_type": "markdown",
   "id": "a55ef36f-4941-4ba3-8c8f-e568d8cae302",
   "metadata": {},
   "source": [
    "### Find the occurrence of each element in list"
   ]
  },
  {
   "cell_type": "code",
   "execution_count": 2,
   "id": "2bba7db0-4f93-4625-bf68-047c4b8e3dc9",
   "metadata": {},
   "outputs": [
    {
     "name": "stdout",
     "output_type": "stream",
     "text": [
      "{1: 1, 2: 2, 3: 1, 4: 3, 5: 1}\n"
     ]
    }
   ],
   "source": [
    "lst = [1, 2, 2, 3, 4, 4, 4, 5]\n",
    "\n",
    "occurrences = {}\n",
    "for i in lst:\n",
    "    occurrences[i] = occurrences.get(i, 0) + 1\n",
    "\n",
    "print(occurrences)\n"
   ]
  },
  {
   "cell_type": "code",
   "execution_count": 3,
   "id": "bf139d91-26a8-4063-8f8e-6cdeca7c782e",
   "metadata": {},
   "outputs": [
    {
     "name": "stdout",
     "output_type": "stream",
     "text": [
      "Counter({4: 3, 2: 2, 1: 1, 3: 1, 5: 1})\n"
     ]
    }
   ],
   "source": [
    "from collections import Counter\n",
    "print(Counter(lst))"
   ]
  },
  {
   "cell_type": "markdown",
   "id": "1c57efd9-7bf0-4233-b039-091758eaac64",
   "metadata": {},
   "source": [
    "### Class OOPs concept"
   ]
  },
  {
   "cell_type": "code",
   "execution_count": 5,
   "id": "0d6d1c88-e6e8-45f7-801a-44397bca1e1c",
   "metadata": {},
   "outputs": [],
   "source": [
    "class Student:\n",
    "    mentor = 'Tushar'\n",
    "    age = 24\n",
    "    "
   ]
  },
  {
   "cell_type": "code",
   "execution_count": 9,
   "id": "01b460bd-919f-4c49-9de6-5eef63b401a8",
   "metadata": {},
   "outputs": [
    {
     "data": {
      "text/plain": [
       "'Tushar'"
      ]
     },
     "execution_count": 9,
     "metadata": {},
     "output_type": "execute_result"
    }
   ],
   "source": [
    "a = Student()\n",
    "a.mentor"
   ]
  },
  {
   "cell_type": "code",
   "execution_count": 11,
   "id": "475ac7a9-35c8-4a68-aeb3-e0b526bb40ab",
   "metadata": {},
   "outputs": [],
   "source": [
    "class person:\n",
    "    alive = True\n",
    "    age = 24\n",
    "    name = None\n",
    "\n",
    "    def hello(self):\n",
    "        print('Hello my name is ',self.name,',',self.age,'year old') "
   ]
  },
  {
   "cell_type": "code",
   "execution_count": 13,
   "id": "c7617ed2-1829-40d9-a393-2321757524ea",
   "metadata": {},
   "outputs": [
    {
     "name": "stdout",
     "output_type": "stream",
     "text": [
      "Hello my name is  None , 24 year old\n"
     ]
    }
   ],
   "source": [
    "p = person()\n",
    "p.hello()"
   ]
  },
  {
   "cell_type": "code",
   "execution_count": 14,
   "id": "6dc3f004-19a7-42b8-9abe-cc98b01e45d2",
   "metadata": {},
   "outputs": [],
   "source": [
    "class person:\n",
    "    alive = True\n",
    "    age = 24\n",
    "    name = None\n",
    "\n",
    "    def hello(self, name_person, age_person):\n",
    "        self.name = name_person\n",
    "        self.age = age_person\n",
    "    \n",
    "        print('Hello my name is ',self.name,',',self.age,'year old') "
   ]
  },
  {
   "cell_type": "code",
   "execution_count": 17,
   "id": "15f6f344-86d0-4712-b713-010d45e6d161",
   "metadata": {},
   "outputs": [
    {
     "name": "stdout",
     "output_type": "stream",
     "text": [
      "Hello my name is  Tushar , 24 year old\n"
     ]
    }
   ],
   "source": [
    "p = person()\n",
    "p.hello('Tushar', 24)"
   ]
  },
  {
   "cell_type": "markdown",
   "id": "bc5ef363-d5c1-4e0f-9769-ffee456e7249",
   "metadata": {},
   "source": [
    "### Dunders or magic function"
   ]
  },
  {
   "cell_type": "code",
   "execution_count": 32,
   "id": "4f0c2d65-68b9-488b-9b30-7390964e50f5",
   "metadata": {},
   "outputs": [],
   "source": [
    "class person:\n",
    "    alive = True\n",
    "    age = 24\n",
    "    name = None\n",
    "\n",
    "    def __init__(self, person_name, person_age):\n",
    "        self.name = person_name\n",
    "        self.age = person_age\n",
    "        \n",
    "    def hello(self):\n",
    "        print('Hello my name is ',self.name,',',self.age,'year old') "
   ]
  },
  {
   "cell_type": "code",
   "execution_count": 33,
   "id": "e1c0919f-8b6c-4702-9afa-bf5d2b3d710c",
   "metadata": {},
   "outputs": [
    {
     "name": "stdout",
     "output_type": "stream",
     "text": [
      "Hello my name is  Tushar , 24 year old\n"
     ]
    }
   ],
   "source": [
    "p = person('Tushar', 24)\n",
    "p.hello()"
   ]
  },
  {
   "cell_type": "code",
   "execution_count": 51,
   "id": "2d0eda6b-4f54-4682-bdc0-f696e113cb45",
   "metadata": {},
   "outputs": [],
   "source": [
    "class car:\n",
    "    def __init__(self, model, mileage):\n",
    "        self.model = model\n",
    "        self.mileage = mileage\n",
    "        print('this is',self.model, 'having mileage of', self.mileage, 'KMPL')\n",
    "        \n",
    "    def __add__(self,other):\n",
    "        return int(self.mileage) + int(other.mileage)\n",
    "\n",
    "    def __eq__(self, other):\n",
    "        return str(self.mileage) == str(other.mileage)\n",
    "\n",
    "    def __str__(self):\n",
    "        return \"{} {}\".format(self.model, self.mileage)\n",
    "\n"
   ]
  },
  {
   "cell_type": "code",
   "execution_count": 52,
   "id": "5ed5b741-1714-4eab-ab66-e8380e7464f1",
   "metadata": {},
   "outputs": [
    {
     "name": "stdout",
     "output_type": "stream",
     "text": [
      "this is BMW having mileage of 15 KMPL\n",
      "this is Audi having mileage of 10 KMPL\n"
     ]
    }
   ],
   "source": [
    "c1 = car('BMW',15)\n",
    "c2 = car('Audi', 10)"
   ]
  },
  {
   "cell_type": "code",
   "execution_count": 53,
   "id": "71028834-524a-4bcd-af86-daf01c324faa",
   "metadata": {},
   "outputs": [
    {
     "data": {
      "text/plain": [
       "False"
      ]
     },
     "execution_count": 53,
     "metadata": {},
     "output_type": "execute_result"
    }
   ],
   "source": [
    "c1==c2"
   ]
  },
  {
   "cell_type": "code",
   "execution_count": 54,
   "id": "7cda839d-a20e-4c94-9b39-a27eb1efe7e1",
   "metadata": {},
   "outputs": [
    {
     "data": {
      "text/plain": [
       "'Audi 10'"
      ]
     },
     "execution_count": 54,
     "metadata": {},
     "output_type": "execute_result"
    }
   ],
   "source": [
    "str(c2)"
   ]
  },
  {
   "cell_type": "code",
   "execution_count": 84,
   "id": "c2371d54-546c-45f7-9945-7d61b6a35061",
   "metadata": {},
   "outputs": [],
   "source": [
    "class dog:\n",
    "    def __init__(self,name,breed):\n",
    "        self.name =  name\n",
    "        self.breed = breed\n",
    "        self.total_tricks = []\n",
    "    \n",
    "    def learn_trick(self, tricks):\n",
    "        self.total_tricks.append(tricks)\n",
    "        print(f'The dog name is {self.name} {self.breed} knows {tricks}')"
   ]
  },
  {
   "cell_type": "code",
   "execution_count": 91,
   "id": "6351dfcb-7318-48af-8bdf-55c8a0a426da",
   "metadata": {},
   "outputs": [],
   "source": [
    "a = dog('sheero', 'german')\n",
    "b = dog('Max', 'labra')"
   ]
  },
  {
   "cell_type": "code",
   "execution_count": 92,
   "id": "045fce03-a576-470b-8a8b-f6fd404b6087",
   "metadata": {},
   "outputs": [
    {
     "name": "stdout",
     "output_type": "stream",
     "text": [
      "[] []\n"
     ]
    }
   ],
   "source": [
    "print(a.total_tricks, b.total_tricks)"
   ]
  },
  {
   "cell_type": "code",
   "execution_count": 93,
   "id": "c8db4e93-db21-4d9d-afe5-25869ea798ad",
   "metadata": {},
   "outputs": [
    {
     "name": "stdout",
     "output_type": "stream",
     "text": [
      "The dog name is sheero german knows sit\n",
      "The dog name is Max labra knows eating\n"
     ]
    }
   ],
   "source": [
    "a.learn_trick('sit')\n",
    "b.learn_trick('eating')"
   ]
  },
  {
   "cell_type": "code",
   "execution_count": 94,
   "id": "e66481c7-28e6-438e-aa5b-6c4b287736a0",
   "metadata": {},
   "outputs": [
    {
     "name": "stdout",
     "output_type": "stream",
     "text": [
      "The dog name is sheero german knows ['dance', 'lean']\n",
      "The dog name is Max labra knows ['barking', 'sleeping']\n"
     ]
    }
   ],
   "source": [
    "a.learn_trick(['dance', 'lean'])\n",
    "b.learn_trick(['barking', 'sleeping'])"
   ]
  },
  {
   "cell_type": "code",
   "execution_count": 95,
   "id": "59976f14-ed72-49d1-93cf-5b3d08ccf9c1",
   "metadata": {},
   "outputs": [
    {
     "data": {
      "text/plain": [
       "['eating', ['barking', 'sleeping']]"
      ]
     },
     "execution_count": 95,
     "metadata": {},
     "output_type": "execute_result"
    }
   ],
   "source": [
    "a.total_tricks\n",
    "b.total_tricks"
   ]
  },
  {
   "cell_type": "markdown",
   "id": "63b941de-28e3-499c-a0ff-beb9d098e2e5",
   "metadata": {},
   "source": [
    "### Inheritence"
   ]
  },
  {
   "cell_type": "code",
   "execution_count": 118,
   "id": "542bf87a-907e-4542-8056-fef416794bf9",
   "metadata": {},
   "outputs": [],
   "source": [
    "class school_member:\n",
    "\n",
    "    def __init__(self, name, age):\n",
    "        self.name = name\n",
    "        self.age = age\n",
    "        print(f'Initialized members : {self.name}')\n",
    "\n",
    "    def tell(self):\n",
    "        print(f\"Name : {self.name}\")\n",
    "        print(f\"Age : {self.age}\")\n",
    "\n",
    "class Teacher(school_member):\n",
    "\n",
    "    def __init__(self,t_name, t_age, t_salary):\n",
    "        self.salary = t_salary\n",
    "        school_member.__init__(self, t_name, t_age)\n",
    "\n",
    "    def say(self):\n",
    "        school_member.tell(self)\n",
    "        print(f\"Salary of teacher : {self.salary}\")\n",
    "\n"
   ]
  },
  {
   "cell_type": "code",
   "execution_count": 115,
   "id": "61ec4d0d-50c0-4ea3-953f-8075c3a1932a",
   "metadata": {},
   "outputs": [
    {
     "name": "stdout",
     "output_type": "stream",
     "text": [
      "Initialized members : Jaspreet\n",
      "Initialized members : Tushar\n"
     ]
    }
   ],
   "source": [
    "j = school_member('Jaspreet', 21)\n",
    "t = Teacher('Tushar',24,50000)"
   ]
  },
  {
   "cell_type": "code",
   "execution_count": 116,
   "id": "e8f83831-6b6a-4fca-9842-294c794ae916",
   "metadata": {},
   "outputs": [
    {
     "name": "stdout",
     "output_type": "stream",
     "text": [
      "Name : Jaspreet\n",
      "Age : 21\n",
      "Name : Tushar\n",
      "Age : 24\n",
      "Salary of teacher : 50000\n"
     ]
    }
   ],
   "source": [
    "j.tell()\n",
    "t.say()"
   ]
  },
  {
   "cell_type": "code",
   "execution_count": 117,
   "id": "67664ed9-5474-47e7-9732-fd5fabe71f2f",
   "metadata": {},
   "outputs": [
    {
     "name": "stdout",
     "output_type": "stream",
     "text": [
      " hello\n"
     ]
    }
   ],
   "source": [
    "t.hello()"
   ]
  },
  {
   "cell_type": "code",
   "execution_count": null,
   "id": "85db753e-e034-414f-b741-cbd18d0590f4",
   "metadata": {},
   "outputs": [],
   "source": []
  }
 ],
 "metadata": {
  "kernelspec": {
   "display_name": "Python 3 (ipykernel)",
   "language": "python",
   "name": "python3"
  },
  "language_info": {
   "codemirror_mode": {
    "name": "ipython",
    "version": 3
   },
   "file_extension": ".py",
   "mimetype": "text/x-python",
   "name": "python",
   "nbconvert_exporter": "python",
   "pygments_lexer": "ipython3",
   "version": "3.12.7"
  }
 },
 "nbformat": 4,
 "nbformat_minor": 5
}
